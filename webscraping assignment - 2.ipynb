{
 "cells": [
  {
   "cell_type": "markdown",
   "id": "dbfce334",
   "metadata": {},
   "source": [
    "# Q1: Write a python program to scrape data for “Data Analyst” Job position in “Bangalore” location. You \n",
    "have to scrape the job-title, job-location, company_name, experience_required. You have to scrape first 10 \n",
    "jobs data"
   ]
  },
  {
   "cell_type": "code",
   "execution_count": 2,
   "id": "3ec7fa42",
   "metadata": {},
   "outputs": [],
   "source": [
    "import selenium\n",
    "import pandas as pd\n",
    "from selenium import webdriver\n",
    "\n",
    "from selenium.common.exceptions import StaleElementReferenceException, NoSuchElementException\n",
    "from selenium.webdriver.common.by import By\n",
    "import time\n",
    "import warnings\n",
    "warnings.filterwarnings('ignore')"
   ]
  },
  {
   "cell_type": "code",
   "execution_count": 424,
   "id": "af2d796a",
   "metadata": {},
   "outputs": [],
   "source": [
    "driver=webdriver.Chrome(r\"C:\\Users\\HP\\Downloads\\chromedriver_win32\\chromedriver.exe\")"
   ]
  },
  {
   "cell_type": "code",
   "execution_count": 37,
   "id": "e31c1085",
   "metadata": {},
   "outputs": [],
   "source": [
    "driver.get('https://www.naukri.com/')"
   ]
  },
  {
   "cell_type": "code",
   "execution_count": 4,
   "id": "333078ef",
   "metadata": {},
   "outputs": [],
   "source": [
    "designation=driver.find_element(By.CLASS_NAME,'suggestor-input ')\n",
    "designation.send_keys('Data Analyst')"
   ]
  },
  {
   "cell_type": "code",
   "execution_count": 5,
   "id": "0a0f0c1d",
   "metadata": {},
   "outputs": [],
   "source": [
    "Location=driver.find_element(By.XPATH,'/html/body/div[1]/div[6]/div/div/div[5]/div/div/div/input')\n",
    "Location.send_keys('Bangalore')"
   ]
  },
  {
   "cell_type": "code",
   "execution_count": 6,
   "id": "7f240041",
   "metadata": {},
   "outputs": [],
   "source": [
    "search=driver.find_element(By.CLASS_NAME,'qsbSubmit')\n",
    "search.click()"
   ]
  },
  {
   "cell_type": "code",
   "execution_count": 18,
   "id": "c9350162",
   "metadata": {},
   "outputs": [],
   "source": [
    "Job_title=[]\n",
    "Job_location=[]\n",
    "company_name=[]\n",
    "experiance_Required=[]"
   ]
  },
  {
   "cell_type": "code",
   "execution_count": 19,
   "id": "e792bdc0",
   "metadata": {},
   "outputs": [],
   "source": [
    "# scraping job title from the given page\n",
    "title_tags=driver.find_elements(By.XPATH,'//a[@class=\"title fw500 ellipsis\"]')\n",
    "for i in title_tags[0:10]:\n",
    "    title=i.text\n",
    "    Job_title.append(title)"
   ]
  },
  {
   "cell_type": "code",
   "execution_count": 20,
   "id": "e8bcf9bf",
   "metadata": {},
   "outputs": [
    {
     "data": {
      "text/plain": [
       "['Data Analyst - CRM Platform',\n",
       " 'Senior Data Analyst',\n",
       " 'Senior Data Analyst',\n",
       " 'Senior Data Analyst',\n",
       " 'Senior Data Analyst | Fortune500 Retail Company',\n",
       " 'Senior Data Analyst | Fortune500 Retail Company',\n",
       " 'Senior Data Analyst',\n",
       " 'Senior Data Analyst',\n",
       " 'Data Analyst - Python / Artificial Intelligence',\n",
       " 'Data Analyst - ETL/Python/SQL']"
      ]
     },
     "execution_count": 20,
     "metadata": {},
     "output_type": "execute_result"
    }
   ],
   "source": [
    "Job_title"
   ]
  },
  {
   "cell_type": "code",
   "execution_count": 21,
   "id": "f2cc5fbc",
   "metadata": {},
   "outputs": [],
   "source": [
    "# scraping job location from the given page\n",
    "location_tags=driver.find_elements(By.XPATH,'//li[@class=\"fleft grey-text br2 placeHolderLi location\"]')\n",
    "for i in location_tags[0:10]:\n",
    "    location=i.text\n",
    "    Job_location.append(location)"
   ]
  },
  {
   "cell_type": "code",
   "execution_count": 22,
   "id": "7470d8d4",
   "metadata": {},
   "outputs": [
    {
     "data": {
      "text/plain": [
       "['Bangalore/Bengaluru, Mumbai, Hyderabad/Secunderabad, Pune, Chennai, Ahmedabad',\n",
       " 'Bangalore/Bengaluru',\n",
       " 'Bangalore/Bengaluru',\n",
       " 'Bangalore/Bengaluru',\n",
       " 'Bangalore/Bengaluru',\n",
       " 'Bangalore/Bengaluru',\n",
       " 'Bangalore/Bengaluru',\n",
       " 'Bangalore/Bengaluru',\n",
       " 'Bangalore/Bengaluru, Kolkata, Mumbai, Hyderabad/Secunderabad, Lucknow, Chennai, Ahmedabad, Delhi / NCR',\n",
       " 'Bangalore/Bengaluru']"
      ]
     },
     "execution_count": 22,
     "metadata": {},
     "output_type": "execute_result"
    }
   ],
   "source": [
    "Job_location"
   ]
  },
  {
   "cell_type": "code",
   "execution_count": 23,
   "id": "fed36621",
   "metadata": {},
   "outputs": [],
   "source": [
    "# scraping company name from the given page\n",
    "company_tags=driver.find_elements(By.XPATH,'//a[@class=\"subTitle ellipsis fleft\"]')\n",
    "for i in company_tags[0:10]:\n",
    "    company=i.text\n",
    "    company_name.append(company)"
   ]
  },
  {
   "cell_type": "code",
   "execution_count": 24,
   "id": "26e4a0a2",
   "metadata": {},
   "outputs": [
    {
     "data": {
      "text/plain": [
       "['Artech infosystem',\n",
       " 'TEKsystems',\n",
       " 'Goalreify Ventures',\n",
       " 'Goalreify Ventures',\n",
       " 'Talent500',\n",
       " 'Talent500',\n",
       " 'nurture.farm',\n",
       " 'Walmart',\n",
       " 'iMindYourBusiness',\n",
       " 'SteerLean']"
      ]
     },
     "execution_count": 24,
     "metadata": {},
     "output_type": "execute_result"
    }
   ],
   "source": [
    "company_name"
   ]
  },
  {
   "cell_type": "code",
   "execution_count": 25,
   "id": "c415f38a",
   "metadata": {},
   "outputs": [],
   "source": [
    "# scraping experiance required from the given page\n",
    "experiance_tags=driver.find_elements(By.XPATH,'//li[@class=\"fleft grey-text br2 placeHolderLi experience\"]')\n",
    "for i in experiance_tags[0:10]:\n",
    "    experiance=i.text\n",
    "    experiance_Required.append(experiance)"
   ]
  },
  {
   "cell_type": "code",
   "execution_count": 26,
   "id": "80f6e316",
   "metadata": {},
   "outputs": [
    {
     "data": {
      "text/plain": [
       "['1-6 Yrs',\n",
       " '7-10 Yrs',\n",
       " '3-6 Yrs',\n",
       " '4-6 Yrs',\n",
       " '3-8 Yrs',\n",
       " '3-5 Yrs',\n",
       " '3-8 Yrs',\n",
       " '6-10 Yrs',\n",
       " '0-2 Yrs',\n",
       " '3-7 Yrs']"
      ]
     },
     "execution_count": 26,
     "metadata": {},
     "output_type": "execute_result"
    }
   ],
   "source": [
    "experiance_Required"
   ]
  },
  {
   "cell_type": "code",
   "execution_count": 27,
   "id": "d7b75b65",
   "metadata": {},
   "outputs": [
    {
     "name": "stdout",
     "output_type": "stream",
     "text": [
      "10 10 10 10\n"
     ]
    }
   ],
   "source": [
    "print(len(Job_title),len(Job_location),len(company_name),len(experiance_Required))"
   ]
  },
  {
   "cell_type": "code",
   "execution_count": 28,
   "id": "15087408",
   "metadata": {},
   "outputs": [],
   "source": [
    "# creating the dataframe from avobe data\n",
    "\n",
    "df=pd.DataFrame({'Job_title':Job_title,'Job_location':Job_location,'company_name':company_name,'experiance_Required':experiance_Required})"
   ]
  },
  {
   "cell_type": "code",
   "execution_count": 29,
   "id": "b4bb91c6",
   "metadata": {},
   "outputs": [
    {
     "data": {
      "text/html": [
       "<div>\n",
       "<style scoped>\n",
       "    .dataframe tbody tr th:only-of-type {\n",
       "        vertical-align: middle;\n",
       "    }\n",
       "\n",
       "    .dataframe tbody tr th {\n",
       "        vertical-align: top;\n",
       "    }\n",
       "\n",
       "    .dataframe thead th {\n",
       "        text-align: right;\n",
       "    }\n",
       "</style>\n",
       "<table border=\"1\" class=\"dataframe\">\n",
       "  <thead>\n",
       "    <tr style=\"text-align: right;\">\n",
       "      <th></th>\n",
       "      <th>Job_title</th>\n",
       "      <th>Job_location</th>\n",
       "      <th>company_name</th>\n",
       "      <th>experiance_Required</th>\n",
       "    </tr>\n",
       "  </thead>\n",
       "  <tbody>\n",
       "    <tr>\n",
       "      <th>0</th>\n",
       "      <td>Data Analyst - CRM Platform</td>\n",
       "      <td>Bangalore/Bengaluru, Mumbai, Hyderabad/Secunde...</td>\n",
       "      <td>Artech infosystem</td>\n",
       "      <td>1-6 Yrs</td>\n",
       "    </tr>\n",
       "    <tr>\n",
       "      <th>1</th>\n",
       "      <td>Senior Data Analyst</td>\n",
       "      <td>Bangalore/Bengaluru</td>\n",
       "      <td>TEKsystems</td>\n",
       "      <td>7-10 Yrs</td>\n",
       "    </tr>\n",
       "    <tr>\n",
       "      <th>2</th>\n",
       "      <td>Senior Data Analyst</td>\n",
       "      <td>Bangalore/Bengaluru</td>\n",
       "      <td>Goalreify Ventures</td>\n",
       "      <td>3-6 Yrs</td>\n",
       "    </tr>\n",
       "    <tr>\n",
       "      <th>3</th>\n",
       "      <td>Senior Data Analyst</td>\n",
       "      <td>Bangalore/Bengaluru</td>\n",
       "      <td>Goalreify Ventures</td>\n",
       "      <td>4-6 Yrs</td>\n",
       "    </tr>\n",
       "    <tr>\n",
       "      <th>4</th>\n",
       "      <td>Senior Data Analyst | Fortune500 Retail Company</td>\n",
       "      <td>Bangalore/Bengaluru</td>\n",
       "      <td>Talent500</td>\n",
       "      <td>3-8 Yrs</td>\n",
       "    </tr>\n",
       "    <tr>\n",
       "      <th>5</th>\n",
       "      <td>Senior Data Analyst | Fortune500 Retail Company</td>\n",
       "      <td>Bangalore/Bengaluru</td>\n",
       "      <td>Talent500</td>\n",
       "      <td>3-5 Yrs</td>\n",
       "    </tr>\n",
       "    <tr>\n",
       "      <th>6</th>\n",
       "      <td>Senior Data Analyst</td>\n",
       "      <td>Bangalore/Bengaluru</td>\n",
       "      <td>nurture.farm</td>\n",
       "      <td>3-8 Yrs</td>\n",
       "    </tr>\n",
       "    <tr>\n",
       "      <th>7</th>\n",
       "      <td>Senior Data Analyst</td>\n",
       "      <td>Bangalore/Bengaluru</td>\n",
       "      <td>Walmart</td>\n",
       "      <td>6-10 Yrs</td>\n",
       "    </tr>\n",
       "    <tr>\n",
       "      <th>8</th>\n",
       "      <td>Data Analyst - Python / Artificial Intelligence</td>\n",
       "      <td>Bangalore/Bengaluru, Kolkata, Mumbai, Hyderaba...</td>\n",
       "      <td>iMindYourBusiness</td>\n",
       "      <td>0-2 Yrs</td>\n",
       "    </tr>\n",
       "    <tr>\n",
       "      <th>9</th>\n",
       "      <td>Data Analyst - ETL/Python/SQL</td>\n",
       "      <td>Bangalore/Bengaluru</td>\n",
       "      <td>SteerLean</td>\n",
       "      <td>3-7 Yrs</td>\n",
       "    </tr>\n",
       "  </tbody>\n",
       "</table>\n",
       "</div>"
      ],
      "text/plain": [
       "                                         Job_title  \\\n",
       "0                      Data Analyst - CRM Platform   \n",
       "1                              Senior Data Analyst   \n",
       "2                              Senior Data Analyst   \n",
       "3                              Senior Data Analyst   \n",
       "4  Senior Data Analyst | Fortune500 Retail Company   \n",
       "5  Senior Data Analyst | Fortune500 Retail Company   \n",
       "6                              Senior Data Analyst   \n",
       "7                              Senior Data Analyst   \n",
       "8  Data Analyst - Python / Artificial Intelligence   \n",
       "9                    Data Analyst - ETL/Python/SQL   \n",
       "\n",
       "                                        Job_location        company_name  \\\n",
       "0  Bangalore/Bengaluru, Mumbai, Hyderabad/Secunde...   Artech infosystem   \n",
       "1                                Bangalore/Bengaluru          TEKsystems   \n",
       "2                                Bangalore/Bengaluru  Goalreify Ventures   \n",
       "3                                Bangalore/Bengaluru  Goalreify Ventures   \n",
       "4                                Bangalore/Bengaluru           Talent500   \n",
       "5                                Bangalore/Bengaluru           Talent500   \n",
       "6                                Bangalore/Bengaluru        nurture.farm   \n",
       "7                                Bangalore/Bengaluru             Walmart   \n",
       "8  Bangalore/Bengaluru, Kolkata, Mumbai, Hyderaba...   iMindYourBusiness   \n",
       "9                                Bangalore/Bengaluru           SteerLean   \n",
       "\n",
       "  experiance_Required  \n",
       "0             1-6 Yrs  \n",
       "1            7-10 Yrs  \n",
       "2             3-6 Yrs  \n",
       "3             4-6 Yrs  \n",
       "4             3-8 Yrs  \n",
       "5             3-5 Yrs  \n",
       "6             3-8 Yrs  \n",
       "7            6-10 Yrs  \n",
       "8             0-2 Yrs  \n",
       "9             3-7 Yrs  "
      ]
     },
     "execution_count": 29,
     "metadata": {},
     "output_type": "execute_result"
    }
   ],
   "source": [
    "df"
   ]
  },
  {
   "cell_type": "markdown",
   "id": "7ca2d13c",
   "metadata": {},
   "source": [
    "# Q2: Write a python program to scrape data for “Data Scientist” Job position in “Bangalore” location. You \n",
    "have to scrape the job-title, job-location, company_name. You have to scrape first 10 jobs data.\n",
    "This task will be done in following steps:"
   ]
  },
  {
   "cell_type": "code",
   "execution_count": 392,
   "id": "6da6f008",
   "metadata": {},
   "outputs": [],
   "source": [
    "driver.get('https://www.naukri.com/')"
   ]
  },
  {
   "cell_type": "code",
   "execution_count": 394,
   "id": "df6eb088",
   "metadata": {},
   "outputs": [],
   "source": [
    "designation=driver.find_element(By.CLASS_NAME,\"suggestor-input\")\n",
    "designation.send_keys('Data Scientist')"
   ]
  },
  {
   "cell_type": "code",
   "execution_count": 395,
   "id": "a75108eb",
   "metadata": {},
   "outputs": [],
   "source": [
    "location=driver.find_element(By.XPATH,'//*[@id=\"root\"]/div[6]/div/div/div[5]/div/div/div/input')\n",
    "location.send_keys('Bangalore')"
   ]
  },
  {
   "cell_type": "code",
   "execution_count": 396,
   "id": "a96617aa",
   "metadata": {},
   "outputs": [],
   "source": [
    "search=driver.find_element(By.CLASS_NAME,'qsbSubmit')\n",
    "search.click()"
   ]
  },
  {
   "cell_type": "code",
   "execution_count": 413,
   "id": "6c874ec9",
   "metadata": {},
   "outputs": [],
   "source": [
    "Job_title=[]\n",
    "Job_location=[]\n",
    "company_name=[]\n",
    "experiance_required=[]"
   ]
  },
  {
   "cell_type": "code",
   "execution_count": 414,
   "id": "41c058e0",
   "metadata": {},
   "outputs": [],
   "source": [
    "# scraping job title from the given page\n",
    "title_tags=driver.find_elements(By.XPATH,'//a[@class=\"title fw500 ellipsis\"]')\n",
    "for i in title_tags[0:10]:\n",
    "    title=i.text\n",
    "    Job_title.append(title)    \n",
    "    \n",
    "# scraping job location from the given page\n",
    "location_tags=driver.find_elements(By.XPATH,'//li[@class=\"fleft grey-text br2 placeHolderLi location\"]')\n",
    "for i in location_tags[0:10]:\n",
    "    location=i.text\n",
    "    Job_location.append(location)\n",
    "\n",
    "# scraping company name from the given page\n",
    "company_tags=driver.find_elements(By.XPATH,'//a[@class=\"subTitle ellipsis fleft\"]')\n",
    "for i in company_tags[0:10]:\n",
    "    company=i.text\n",
    "    company_name.append(company)\n",
    "    \n",
    "# scraping experiance required from the given page\n",
    "experiance_tags=driver.find_elements(By.XPATH,'//li[@class=\"fleft grey-text br2 placeHolderLi experience\"]')\n",
    "for i in experiance_tags[0:10]:\n",
    "    experiance=i.text\n",
    "    experiance_required.append(experiance)"
   ]
  },
  {
   "cell_type": "code",
   "execution_count": 415,
   "id": "c59c528e",
   "metadata": {},
   "outputs": [
    {
     "name": "stdout",
     "output_type": "stream",
     "text": [
      "10 10 10 10\n"
     ]
    }
   ],
   "source": [
    "print(len(Job_title),len(Job_location),len(company_name),len(experiance_required))"
   ]
  },
  {
   "cell_type": "code",
   "execution_count": 416,
   "id": "c3a4e6d6",
   "metadata": {},
   "outputs": [],
   "source": [
    "# creating the dataframe from avobe data\n",
    "\n",
    "df=pd.DataFrame({'Job_title':Job_title,'Job_location':Job_location,'company_name':company_name,'experiance_Required':experiance_required})"
   ]
  },
  {
   "cell_type": "code",
   "execution_count": 417,
   "id": "62466ffb",
   "metadata": {},
   "outputs": [
    {
     "data": {
      "text/html": [
       "<div>\n",
       "<style scoped>\n",
       "    .dataframe tbody tr th:only-of-type {\n",
       "        vertical-align: middle;\n",
       "    }\n",
       "\n",
       "    .dataframe tbody tr th {\n",
       "        vertical-align: top;\n",
       "    }\n",
       "\n",
       "    .dataframe thead th {\n",
       "        text-align: right;\n",
       "    }\n",
       "</style>\n",
       "<table border=\"1\" class=\"dataframe\">\n",
       "  <thead>\n",
       "    <tr style=\"text-align: right;\">\n",
       "      <th></th>\n",
       "      <th>Job_title</th>\n",
       "      <th>Job_location</th>\n",
       "      <th>company_name</th>\n",
       "      <th>experiance_Required</th>\n",
       "    </tr>\n",
       "  </thead>\n",
       "  <tbody>\n",
       "    <tr>\n",
       "      <th>0</th>\n",
       "      <td>Data Science Specialist</td>\n",
       "      <td>Bangalore/Bengaluru, Kolkata, Mumbai, Hyderaba...</td>\n",
       "      <td>Accenture</td>\n",
       "      <td>2-4 Yrs</td>\n",
       "    </tr>\n",
       "    <tr>\n",
       "      <th>1</th>\n",
       "      <td>Data Science Manager</td>\n",
       "      <td>Bangalore/Bengaluru, Kolkata, Mumbai, Hyderaba...</td>\n",
       "      <td>Accenture</td>\n",
       "      <td>4-7 Yrs</td>\n",
       "    </tr>\n",
       "    <tr>\n",
       "      <th>2</th>\n",
       "      <td>Mongodb Database Administrator, Maria DB or Ca...</td>\n",
       "      <td>Bangalore/Bengaluru, Hyderabad/Secunderabad, P...</td>\n",
       "      <td>Mphasis</td>\n",
       "      <td>9-14 Yrs</td>\n",
       "    </tr>\n",
       "    <tr>\n",
       "      <th>3</th>\n",
       "      <td>Analystics &amp; Modeling Specialist</td>\n",
       "      <td>Bangalore/Bengaluru, Kolkata, Mumbai, Hyderaba...</td>\n",
       "      <td>Accenture</td>\n",
       "      <td>6-8 Yrs</td>\n",
       "    </tr>\n",
       "    <tr>\n",
       "      <th>4</th>\n",
       "      <td>Assistant Manager - Data Science</td>\n",
       "      <td>Bangalore/Bengaluru, Mumbai, Pune</td>\n",
       "      <td>CitiusTech</td>\n",
       "      <td>5-9 Yrs</td>\n",
       "    </tr>\n",
       "    <tr>\n",
       "      <th>5</th>\n",
       "      <td>Data Scientist</td>\n",
       "      <td>Bangalore/Bengaluru, New Delhi, Pune, Gurgaon/...</td>\n",
       "      <td>ZS Associates</td>\n",
       "      <td>5-8 Yrs</td>\n",
       "    </tr>\n",
       "    <tr>\n",
       "      <th>6</th>\n",
       "      <td>Data Scientist</td>\n",
       "      <td>Bangalore/Bengaluru, Hyderabad/Secunderabad, P...</td>\n",
       "      <td>Tech Mahindra</td>\n",
       "      <td>10-14 Yrs</td>\n",
       "    </tr>\n",
       "    <tr>\n",
       "      <th>7</th>\n",
       "      <td>Senior Data Scientist</td>\n",
       "      <td>Bangalore/Bengaluru, Mumbai, New Delhi, Chennai</td>\n",
       "      <td>Boston Consulting Group</td>\n",
       "      <td>5-10 Yrs</td>\n",
       "    </tr>\n",
       "    <tr>\n",
       "      <th>8</th>\n",
       "      <td>Industry X - Software Engineering</td>\n",
       "      <td>Bangalore/Bengaluru</td>\n",
       "      <td>Accenture</td>\n",
       "      <td>3-5 Yrs</td>\n",
       "    </tr>\n",
       "    <tr>\n",
       "      <th>9</th>\n",
       "      <td>Module Lead - BIDW</td>\n",
       "      <td>Bangalore/Bengaluru</td>\n",
       "      <td>Mphasis</td>\n",
       "      <td>5-8 Yrs</td>\n",
       "    </tr>\n",
       "  </tbody>\n",
       "</table>\n",
       "</div>"
      ],
      "text/plain": [
       "                                           Job_title  \\\n",
       "0                            Data Science Specialist   \n",
       "1                               Data Science Manager   \n",
       "2  Mongodb Database Administrator, Maria DB or Ca...   \n",
       "3                   Analystics & Modeling Specialist   \n",
       "4                   Assistant Manager - Data Science   \n",
       "5                                     Data Scientist   \n",
       "6                                     Data Scientist   \n",
       "7                              Senior Data Scientist   \n",
       "8                  Industry X - Software Engineering   \n",
       "9                                 Module Lead - BIDW   \n",
       "\n",
       "                                        Job_location             company_name  \\\n",
       "0  Bangalore/Bengaluru, Kolkata, Mumbai, Hyderaba...                Accenture   \n",
       "1  Bangalore/Bengaluru, Kolkata, Mumbai, Hyderaba...                Accenture   \n",
       "2  Bangalore/Bengaluru, Hyderabad/Secunderabad, P...                  Mphasis   \n",
       "3  Bangalore/Bengaluru, Kolkata, Mumbai, Hyderaba...                Accenture   \n",
       "4                  Bangalore/Bengaluru, Mumbai, Pune               CitiusTech   \n",
       "5  Bangalore/Bengaluru, New Delhi, Pune, Gurgaon/...            ZS Associates   \n",
       "6  Bangalore/Bengaluru, Hyderabad/Secunderabad, P...            Tech Mahindra   \n",
       "7    Bangalore/Bengaluru, Mumbai, New Delhi, Chennai  Boston Consulting Group   \n",
       "8                                Bangalore/Bengaluru                Accenture   \n",
       "9                                Bangalore/Bengaluru                  Mphasis   \n",
       "\n",
       "  experiance_Required  \n",
       "0             2-4 Yrs  \n",
       "1             4-7 Yrs  \n",
       "2            9-14 Yrs  \n",
       "3             6-8 Yrs  \n",
       "4             5-9 Yrs  \n",
       "5             5-8 Yrs  \n",
       "6           10-14 Yrs  \n",
       "7            5-10 Yrs  \n",
       "8             3-5 Yrs  \n",
       "9             5-8 Yrs  "
      ]
     },
     "execution_count": 417,
     "metadata": {},
     "output_type": "execute_result"
    }
   ],
   "source": [
    "df"
   ]
  },
  {
   "cell_type": "markdown",
   "id": "1c28a4c2",
   "metadata": {},
   "source": [
    "# Q3: In this question you have to scrape data using the filters available on the webpage as shown below:"
   ]
  },
  {
   "cell_type": "code",
   "execution_count": 425,
   "id": "361b7073",
   "metadata": {},
   "outputs": [],
   "source": [
    "driver.get('https://www.naukri.com/')"
   ]
  },
  {
   "cell_type": "code",
   "execution_count": 426,
   "id": "aa522eb7",
   "metadata": {},
   "outputs": [],
   "source": [
    "designation=driver.find_element(By.CLASS_NAME,\"suggestor-input \")\n",
    "designation.send_keys('Data Scientist')"
   ]
  },
  {
   "cell_type": "code",
   "execution_count": 427,
   "id": "53673ccf",
   "metadata": {},
   "outputs": [],
   "source": [
    "location=driver.find_element(By.XPATH,'//*[@id=\"root\"]/div[6]/div/div/div[5]/div/div/div/input')\n",
    "location.send_keys('Delhi/NCR')"
   ]
  },
  {
   "cell_type": "code",
   "execution_count": 428,
   "id": "f9b3de2e",
   "metadata": {},
   "outputs": [],
   "source": [
    "search = driver.find_element(By.CLASS_NAME,'qsbSubmit')\n",
    "search.click()"
   ]
  },
  {
   "cell_type": "code",
   "execution_count": 442,
   "id": "e0c7c742",
   "metadata": {},
   "outputs": [],
   "source": [
    "job_title=[]\n",
    "job_location=[]\n",
    "company_name=[]\n",
    "experiance_required =[]\n",
    "salaries=[]"
   ]
  },
  {
   "cell_type": "code",
   "execution_count": 443,
   "id": "202dcce1",
   "metadata": {},
   "outputs": [],
   "source": [
    "# scraping job title from the given page\n",
    "title_tags=driver.find_elements(By.XPATH,'//a[@class=\"title fw500 ellipsis\"]')\n",
    "for i in title_tags[0:10]:\n",
    "    title=i.text\n",
    "    job_title.append(title)"
   ]
  },
  {
   "cell_type": "code",
   "execution_count": 444,
   "id": "64ff98dd",
   "metadata": {},
   "outputs": [
    {
     "data": {
      "text/plain": [
       "['Data Scientist - Engine Algorithm',\n",
       " 'Data Scientist',\n",
       " 'DigitalBCG GAMMA Data Scientist',\n",
       " 'Data Activation Specialist - Adobe Target',\n",
       " 'Lead Data Scientist',\n",
       " 'Data Scientist',\n",
       " 'Data Scientist',\n",
       " 'Data Scientist / Chat-bot Developer',\n",
       " 'Data Scientist - Mumbai - Immediate Joiner Required',\n",
       " 'Data Scientist']"
      ]
     },
     "execution_count": 444,
     "metadata": {},
     "output_type": "execute_result"
    }
   ],
   "source": [
    "job_title"
   ]
  },
  {
   "cell_type": "code",
   "execution_count": 445,
   "id": "04c5cd03",
   "metadata": {},
   "outputs": [],
   "source": [
    "# scraping job location from the given page\n",
    "location_tags=driver.find_elements(By.XPATH,'//li[@class=\"fleft grey-text br2 placeHolderLi location\"]')\n",
    "for i in location_tags[0:10]:\n",
    "    location=i.text\n",
    "    job_location.append(location)"
   ]
  },
  {
   "cell_type": "code",
   "execution_count": 446,
   "id": "1e46827c",
   "metadata": {},
   "outputs": [
    {
     "data": {
      "text/plain": [
       "['Delhi / NCR, Kolkata, Mumbai, Hyderabad/Secunderabad, Lucknow, Chennai, Ahmedabad, Bangalore/Bengaluru',\n",
       " 'Noida, Nagpur, Bangalore/Bengaluru',\n",
       " 'New Delhi, Bangalore/Bengaluru',\n",
       " 'Delhi / NCR, Kolkata, Mumbai, Hyderabad/Secunderabad, Lucknow, Chennai, Ahmedabad, Bangalore/Bengaluru',\n",
       " 'Noida(Sector-59 Noida)\\n(WFH during Covid)',\n",
       " 'Gurgaon/Gurugram',\n",
       " 'Gurgaon/Gurugram',\n",
       " 'New Delhi, Bangalore/Bengaluru, Mumbai (All Areas)',\n",
       " 'Delhi / NCR, Mumbai, New Delhi',\n",
       " 'Noida']"
      ]
     },
     "execution_count": 446,
     "metadata": {},
     "output_type": "execute_result"
    }
   ],
   "source": [
    "job_location"
   ]
  },
  {
   "cell_type": "code",
   "execution_count": 447,
   "id": "f2f8bb5b",
   "metadata": {},
   "outputs": [],
   "source": [
    "# scraping company name from the given page\n",
    "company_tags=driver.find_elements(By.XPATH,'//a[@class=\"subTitle ellipsis fleft\"]')\n",
    "for i in company_tags[0:10]:\n",
    "    company=i.text\n",
    "    company_name.append(company)"
   ]
  },
  {
   "cell_type": "code",
   "execution_count": 448,
   "id": "3e48e8bb",
   "metadata": {
    "scrolled": true
   },
   "outputs": [
    {
     "data": {
      "text/plain": [
       "['Primo Hiring',\n",
       " 'GlobalLogic',\n",
       " 'Boston Consulting Group',\n",
       " 'Okda Solutions',\n",
       " 'R Systems International',\n",
       " 'IHS Markit',\n",
       " 'Optum',\n",
       " 'Big Seo Buzz',\n",
       " 'HueCanvas Consulting',\n",
       " 'NGI Ventures']"
      ]
     },
     "execution_count": 448,
     "metadata": {},
     "output_type": "execute_result"
    }
   ],
   "source": [
    "company_name"
   ]
  },
  {
   "cell_type": "code",
   "execution_count": 449,
   "id": "b0c35c61",
   "metadata": {},
   "outputs": [],
   "source": [
    "# scraping experiance required from the given page\n",
    "experiance_tags=driver.find_elements(By.XPATH,'//li[@class=\"fleft grey-text br2 placeHolderLi experience\"]')\n",
    "for i in experiance_tags[0:10]:\n",
    "    experiance=i.text\n",
    "    experiance_required.append(experiance)"
   ]
  },
  {
   "cell_type": "code",
   "execution_count": 450,
   "id": "b0dd9b28",
   "metadata": {},
   "outputs": [
    {
     "data": {
      "text/plain": [
       "['1-3 Yrs',\n",
       " '8-10 Yrs',\n",
       " '2-5 Yrs',\n",
       " '7-10 Yrs',\n",
       " '7-10 Yrs',\n",
       " '3-6 Yrs',\n",
       " '2-7 Yrs',\n",
       " '3-7 Yrs',\n",
       " '2-7 Yrs',\n",
       " '0-5 Yrs']"
      ]
     },
     "execution_count": 450,
     "metadata": {},
     "output_type": "execute_result"
    }
   ],
   "source": [
    "experiance_required"
   ]
  },
  {
   "cell_type": "code",
   "execution_count": 451,
   "id": "3efd342c",
   "metadata": {},
   "outputs": [],
   "source": [
    "# scraping experiance required from the given page\n",
    "salary_tags=driver.find_elements(By.XPATH,'//li[@class=\"fleft grey-text br2 placeHolderLi salary\"]')\n",
    "for i in salary_tags[0:10]:\n",
    "    salary=i.text\n",
    "    salaries.append(salary)"
   ]
  },
  {
   "cell_type": "code",
   "execution_count": 452,
   "id": "5100546b",
   "metadata": {},
   "outputs": [
    {
     "data": {
      "text/plain": [
       "['Not disclosed',\n",
       " '3,00,000 - 4,50,000 PA.',\n",
       " 'Not disclosed',\n",
       " 'Not disclosed',\n",
       " 'Not disclosed',\n",
       " 'Not disclosed',\n",
       " 'Not disclosed',\n",
       " '5,00,000 - 12,00,000 PA.',\n",
       " 'Not disclosed',\n",
       " 'Not disclosed']"
      ]
     },
     "execution_count": 452,
     "metadata": {},
     "output_type": "execute_result"
    }
   ],
   "source": [
    "salaries"
   ]
  },
  {
   "cell_type": "code",
   "execution_count": 453,
   "id": "43d780ea",
   "metadata": {},
   "outputs": [
    {
     "name": "stdout",
     "output_type": "stream",
     "text": [
      "10 10 10 10 10\n"
     ]
    }
   ],
   "source": [
    "print(len(job_title),len(job_location),len(company_name),len(experiance_required),len(salaries))"
   ]
  },
  {
   "cell_type": "code",
   "execution_count": 454,
   "id": "b99bd9ee",
   "metadata": {},
   "outputs": [],
   "source": [
    "df=pd.DataFrame({'job-title':job_title,'job-location':job_location,'company name': company_name,'experience required':experiance_required,'salary':salaries})"
   ]
  },
  {
   "cell_type": "code",
   "execution_count": 455,
   "id": "6bddb85c",
   "metadata": {},
   "outputs": [
    {
     "data": {
      "text/html": [
       "<div>\n",
       "<style scoped>\n",
       "    .dataframe tbody tr th:only-of-type {\n",
       "        vertical-align: middle;\n",
       "    }\n",
       "\n",
       "    .dataframe tbody tr th {\n",
       "        vertical-align: top;\n",
       "    }\n",
       "\n",
       "    .dataframe thead th {\n",
       "        text-align: right;\n",
       "    }\n",
       "</style>\n",
       "<table border=\"1\" class=\"dataframe\">\n",
       "  <thead>\n",
       "    <tr style=\"text-align: right;\">\n",
       "      <th></th>\n",
       "      <th>job-title</th>\n",
       "      <th>job-location</th>\n",
       "      <th>company name</th>\n",
       "      <th>experience required</th>\n",
       "      <th>salary</th>\n",
       "    </tr>\n",
       "  </thead>\n",
       "  <tbody>\n",
       "    <tr>\n",
       "      <th>0</th>\n",
       "      <td>Data Scientist - Engine Algorithm</td>\n",
       "      <td>Delhi / NCR, Kolkata, Mumbai, Hyderabad/Secund...</td>\n",
       "      <td>Primo Hiring</td>\n",
       "      <td>1-3 Yrs</td>\n",
       "      <td>Not disclosed</td>\n",
       "    </tr>\n",
       "    <tr>\n",
       "      <th>1</th>\n",
       "      <td>Data Scientist</td>\n",
       "      <td>Noida, Nagpur, Bangalore/Bengaluru</td>\n",
       "      <td>GlobalLogic</td>\n",
       "      <td>8-10 Yrs</td>\n",
       "      <td>3,00,000 - 4,50,000 PA.</td>\n",
       "    </tr>\n",
       "    <tr>\n",
       "      <th>2</th>\n",
       "      <td>DigitalBCG GAMMA Data Scientist</td>\n",
       "      <td>New Delhi, Bangalore/Bengaluru</td>\n",
       "      <td>Boston Consulting Group</td>\n",
       "      <td>2-5 Yrs</td>\n",
       "      <td>Not disclosed</td>\n",
       "    </tr>\n",
       "    <tr>\n",
       "      <th>3</th>\n",
       "      <td>Data Activation Specialist - Adobe Target</td>\n",
       "      <td>Delhi / NCR, Kolkata, Mumbai, Hyderabad/Secund...</td>\n",
       "      <td>Okda Solutions</td>\n",
       "      <td>7-10 Yrs</td>\n",
       "      <td>Not disclosed</td>\n",
       "    </tr>\n",
       "    <tr>\n",
       "      <th>4</th>\n",
       "      <td>Lead Data Scientist</td>\n",
       "      <td>Noida(Sector-59 Noida)\\n(WFH during Covid)</td>\n",
       "      <td>R Systems International</td>\n",
       "      <td>7-10 Yrs</td>\n",
       "      <td>Not disclosed</td>\n",
       "    </tr>\n",
       "    <tr>\n",
       "      <th>5</th>\n",
       "      <td>Data Scientist</td>\n",
       "      <td>Gurgaon/Gurugram</td>\n",
       "      <td>IHS Markit</td>\n",
       "      <td>3-6 Yrs</td>\n",
       "      <td>Not disclosed</td>\n",
       "    </tr>\n",
       "    <tr>\n",
       "      <th>6</th>\n",
       "      <td>Data Scientist</td>\n",
       "      <td>Gurgaon/Gurugram</td>\n",
       "      <td>Optum</td>\n",
       "      <td>2-7 Yrs</td>\n",
       "      <td>Not disclosed</td>\n",
       "    </tr>\n",
       "    <tr>\n",
       "      <th>7</th>\n",
       "      <td>Data Scientist / Chat-bot Developer</td>\n",
       "      <td>New Delhi, Bangalore/Bengaluru, Mumbai (All Ar...</td>\n",
       "      <td>Big Seo Buzz</td>\n",
       "      <td>3-7 Yrs</td>\n",
       "      <td>5,00,000 - 12,00,000 PA.</td>\n",
       "    </tr>\n",
       "    <tr>\n",
       "      <th>8</th>\n",
       "      <td>Data Scientist - Mumbai - Immediate Joiner Req...</td>\n",
       "      <td>Delhi / NCR, Mumbai, New Delhi</td>\n",
       "      <td>HueCanvas Consulting</td>\n",
       "      <td>2-7 Yrs</td>\n",
       "      <td>Not disclosed</td>\n",
       "    </tr>\n",
       "    <tr>\n",
       "      <th>9</th>\n",
       "      <td>Data Scientist</td>\n",
       "      <td>Noida</td>\n",
       "      <td>NGI Ventures</td>\n",
       "      <td>0-5 Yrs</td>\n",
       "      <td>Not disclosed</td>\n",
       "    </tr>\n",
       "  </tbody>\n",
       "</table>\n",
       "</div>"
      ],
      "text/plain": [
       "                                           job-title  \\\n",
       "0                  Data Scientist - Engine Algorithm   \n",
       "1                                     Data Scientist   \n",
       "2                    DigitalBCG GAMMA Data Scientist   \n",
       "3          Data Activation Specialist - Adobe Target   \n",
       "4                                Lead Data Scientist   \n",
       "5                                     Data Scientist   \n",
       "6                                     Data Scientist   \n",
       "7                Data Scientist / Chat-bot Developer   \n",
       "8  Data Scientist - Mumbai - Immediate Joiner Req...   \n",
       "9                                     Data Scientist   \n",
       "\n",
       "                                        job-location             company name  \\\n",
       "0  Delhi / NCR, Kolkata, Mumbai, Hyderabad/Secund...             Primo Hiring   \n",
       "1                 Noida, Nagpur, Bangalore/Bengaluru              GlobalLogic   \n",
       "2                     New Delhi, Bangalore/Bengaluru  Boston Consulting Group   \n",
       "3  Delhi / NCR, Kolkata, Mumbai, Hyderabad/Secund...           Okda Solutions   \n",
       "4         Noida(Sector-59 Noida)\\n(WFH during Covid)  R Systems International   \n",
       "5                                   Gurgaon/Gurugram               IHS Markit   \n",
       "6                                   Gurgaon/Gurugram                    Optum   \n",
       "7  New Delhi, Bangalore/Bengaluru, Mumbai (All Ar...             Big Seo Buzz   \n",
       "8                     Delhi / NCR, Mumbai, New Delhi     HueCanvas Consulting   \n",
       "9                                              Noida             NGI Ventures   \n",
       "\n",
       "  experience required                    salary  \n",
       "0             1-3 Yrs             Not disclosed  \n",
       "1            8-10 Yrs   3,00,000 - 4,50,000 PA.  \n",
       "2             2-5 Yrs             Not disclosed  \n",
       "3            7-10 Yrs             Not disclosed  \n",
       "4            7-10 Yrs             Not disclosed  \n",
       "5             3-6 Yrs             Not disclosed  \n",
       "6             2-7 Yrs             Not disclosed  \n",
       "7             3-7 Yrs  5,00,000 - 12,00,000 PA.  \n",
       "8             2-7 Yrs             Not disclosed  \n",
       "9             0-5 Yrs             Not disclosed  "
      ]
     },
     "execution_count": 455,
     "metadata": {},
     "output_type": "execute_result"
    }
   ],
   "source": [
    "df"
   ]
  },
  {
   "cell_type": "markdown",
   "id": "2c32bb53",
   "metadata": {},
   "source": [
    "# Q4 : Scrape data of first 100 sunglasses listings on flipkart.com. You have to scrape four attributes:\n",
    "\n",
    "\n",
    "\n",
    "\n",
    "\n",
    "\n",
    "\n",
    "\n"
   ]
  },
  {
   "cell_type": "code",
   "execution_count": 141,
   "id": "df43c5f8",
   "metadata": {},
   "outputs": [],
   "source": [
    "driver.get('https://www.flipkart.com/')"
   ]
  },
  {
   "cell_type": "code",
   "execution_count": 145,
   "id": "d679c1cd",
   "metadata": {},
   "outputs": [],
   "source": [
    "product=driver.find_element(By.XPATH,'/html/body/div[1]/div/div[1]/div[1]/div[2]/div[2]/form/div/div/input')\n",
    "product.send_keys('sunglasses')"
   ]
  },
  {
   "cell_type": "code",
   "execution_count": 146,
   "id": "d92c2bef",
   "metadata": {},
   "outputs": [],
   "source": [
    "search=driver.find_element(By.CLASS_NAME,'L0Z3Pu')\n",
    "search.click()"
   ]
  },
  {
   "cell_type": "code",
   "execution_count": 283,
   "id": "bd1aa8dd",
   "metadata": {},
   "outputs": [],
   "source": [
    "Brand_name=[]\n",
    "Product_Description=[]\n",
    "glasses_price=[]\n",
    "discount=[]"
   ]
  },
  {
   "cell_type": "code",
   "execution_count": 284,
   "id": "68233368",
   "metadata": {},
   "outputs": [],
   "source": [
    "# scraping brand_name from the given page\n",
    "\n",
    "brand_tags=driver.find_elements(By.XPATH,'//div[@class=\"_2WkVRV\"]')\n",
    "for i in brand_tags[0:100]:\n",
    "    brand=i.text\n",
    "    Brand_name.append(brand)\n",
    "\n",
    "brand_tags=driver.find_elements(By.XPATH,'//div[@class=\"_2WkVRV\"]')\n",
    "for i in brand_tags[0:100]:\n",
    "    brand=i.text\n",
    "    Brand_name.append(brand)\n",
    "    \n",
    "brand_tags=driver.find_elements(By.XPATH,'//div[@class=\"_2WkVRV\"]')\n",
    "for i in brand_tags[0:20]:\n",
    "    brand=i.text\n",
    "    Brand_name.append(brand)\n",
    "    "
   ]
  },
  {
   "cell_type": "code",
   "execution_count": 285,
   "id": "bdfc78fb",
   "metadata": {},
   "outputs": [
    {
     "data": {
      "text/plain": [
       "['SRPM',\n",
       " 'IDEE',\n",
       " 'IDEE',\n",
       " 'john jacobs',\n",
       " 'ALIXERO',\n",
       " 'DAHAAZIL',\n",
       " 'VINCENT CHASE',\n",
       " 'AISLIN',\n",
       " 'Fastrack',\n",
       " 'Fastrack',\n",
       " 'kingsunglasses',\n",
       " 'FOSSIL',\n",
       " 'IDEE',\n",
       " 'shah collections',\n",
       " 'GANSTA',\n",
       " 'CARRERA',\n",
       " 'Fastrack',\n",
       " 'IDEE',\n",
       " 'kingsunglasses',\n",
       " 'FOSSIL',\n",
       " 'Singco India',\n",
       " 'PIRASO',\n",
       " 'Rich Club',\n",
       " 'AISLIN',\n",
       " 'Fastrack',\n",
       " 'Fastrack',\n",
       " 'ROYAL SON',\n",
       " 'FOSSIL',\n",
       " 'Fastrack',\n",
       " 'PHENOMENAL',\n",
       " 'LIZA ANGEL',\n",
       " 'FOSSIL',\n",
       " 'VINCENT CHASE',\n",
       " 'PIRASO',\n",
       " 'Urbanic',\n",
       " 'AISLIN',\n",
       " 'Fastrack',\n",
       " 'GANSTA',\n",
       " 'ROYAL SON',\n",
       " 'ROYAL SON',\n",
       " 'SRPM',\n",
       " 'IDEE',\n",
       " 'IDEE',\n",
       " 'john jacobs',\n",
       " 'ALIXERO',\n",
       " 'DAHAAZIL',\n",
       " 'VINCENT CHASE',\n",
       " 'AISLIN',\n",
       " 'Fastrack',\n",
       " 'Fastrack',\n",
       " 'kingsunglasses',\n",
       " 'FOSSIL',\n",
       " 'IDEE',\n",
       " 'shah collections',\n",
       " 'GANSTA',\n",
       " 'CARRERA',\n",
       " 'Fastrack',\n",
       " 'IDEE',\n",
       " 'kingsunglasses',\n",
       " 'FOSSIL',\n",
       " 'Singco India',\n",
       " 'PIRASO',\n",
       " 'Rich Club',\n",
       " 'AISLIN',\n",
       " 'Fastrack',\n",
       " 'Fastrack',\n",
       " 'ROYAL SON',\n",
       " 'FOSSIL',\n",
       " 'Fastrack',\n",
       " 'PHENOMENAL',\n",
       " 'LIZA ANGEL',\n",
       " 'FOSSIL',\n",
       " 'VINCENT CHASE',\n",
       " 'PIRASO',\n",
       " 'Urbanic',\n",
       " 'AISLIN',\n",
       " 'Fastrack',\n",
       " 'GANSTA',\n",
       " 'ROYAL SON',\n",
       " 'ROYAL SON',\n",
       " 'SRPM',\n",
       " 'IDEE',\n",
       " 'IDEE',\n",
       " 'john jacobs',\n",
       " 'ALIXERO',\n",
       " 'DAHAAZIL',\n",
       " 'VINCENT CHASE',\n",
       " 'AISLIN',\n",
       " 'Fastrack',\n",
       " 'Fastrack',\n",
       " 'kingsunglasses',\n",
       " 'FOSSIL',\n",
       " 'IDEE',\n",
       " 'shah collections',\n",
       " 'GANSTA',\n",
       " 'CARRERA',\n",
       " 'Fastrack',\n",
       " 'IDEE',\n",
       " 'kingsunglasses',\n",
       " 'FOSSIL']"
      ]
     },
     "execution_count": 285,
     "metadata": {},
     "output_type": "execute_result"
    }
   ],
   "source": [
    "Brand_name"
   ]
  },
  {
   "cell_type": "code",
   "execution_count": 286,
   "id": "d7c2a703",
   "metadata": {},
   "outputs": [],
   "source": [
    "# scraping Product_Description from the given page\n",
    "\n",
    "description_tags=driver.find_elements(By.XPATH,'//a[@class=\"IRpwTa\"]')\n",
    "for i in description_tags[0:100]:\n",
    "    Description=i.text\n",
    "    Product_Description.append(Description)\n",
    "    \n",
    "description_tags=driver.find_elements(By.XPATH,'//a[@class=\"IRpwTa\"]')\n",
    "for i in description_tags[0:100]:\n",
    "    Description=i.text\n",
    "    Product_Description.append(Description)\n",
    "    \n",
    "description_tags=driver.find_elements(By.XPATH,'//a[@class=\"IRpwTa\"]')\n",
    "for i in description_tags[0:20]:\n",
    "    Description=i.text\n",
    "    Product_Description.append(Description)\n",
    "    \n",
    "    "
   ]
  },
  {
   "cell_type": "code",
   "execution_count": 287,
   "id": "423b1bab",
   "metadata": {},
   "outputs": [
    {
     "data": {
      "text/plain": [
       "['UV Protection Wayfarer Sunglasses (50)',\n",
       " 'Gradient, UV Protection Aviator Sunglasses (58)',\n",
       " 'UV Protection Over-sized Sunglasses (57)',\n",
       " 'Polarized, UV Protection Aviator Sunglasses (53)',\n",
       " 'UV Protection, Riding Glasses Retro Square Sunglasses (...',\n",
       " 'UV Protection, Night Vision, Riding Glasses Wayfarer Su...',\n",
       " 'Polarized, UV Protection Round Sunglasses (51)',\n",
       " 'UV Protection Butterfly, Over-sized Sunglasses (62)',\n",
       " 'UV Protection Wayfarer Sunglasses (Free Size)',\n",
       " 'Gradient, UV Protection Wayfarer Sunglasses (Free Size)',\n",
       " 'UV Protection Round Sunglasses (Free Size)',\n",
       " 'Others Round Sunglasses (50)',\n",
       " 'Mirrored, UV Protection Wayfarer Sunglasses (18)',\n",
       " 'UV Protection Wayfarer Sunglasses (56)',\n",
       " 'Gradient, UV Protection Aviator Sunglasses (57)',\n",
       " 'Others Aviator Sunglasses (57)',\n",
       " 'UV Protection Round Sunglasses (52)',\n",
       " 'UV Protection Cat-eye Sunglasses (17)',\n",
       " 'UV Protection Rectangular Sunglasses (Free Size)',\n",
       " 'Others Aviator Sunglasses (58)',\n",
       " 'Gradient, Toughened Glass Lens, UV Protection Retro Squ...',\n",
       " 'UV Protection Wayfarer Sunglasses (55)',\n",
       " 'UV Protection Round Sunglasses (50)',\n",
       " 'UV Protection Oval Sunglasses (63)',\n",
       " 'Gradient, UV Protection Wayfarer Sunglasses (Free Size)',\n",
       " 'UV Protection Retro Square Sunglasses (54)',\n",
       " 'Polarized, UV Protection Wayfarer Sunglasses (61)',\n",
       " 'Others Round Sunglasses (52)',\n",
       " 'UV Protection Wayfarer Sunglasses (Free Size)',\n",
       " 'UV Protection Retro Square Sunglasses (53)',\n",
       " 'UV Protection Wayfarer Sunglasses (Free Size)',\n",
       " 'Others Round Sunglasses (53)',\n",
       " 'by Lenskart Polarized, UV Protection Cat-eye Sunglasses...',\n",
       " 'UV Protection Aviator Sunglasses (54)',\n",
       " 'Others Oval Sunglasses (Free Size)',\n",
       " 'UV Protection, Gradient Cat-eye Sunglasses (61)',\n",
       " 'UV Protection Sports Sunglasses (63)',\n",
       " 'UV Protection Retro Square Sunglasses (53)',\n",
       " 'Mirrored Aviator Sunglasses (Free Size)',\n",
       " 'UV Protection, Polarized Round Sunglasses (54)',\n",
       " 'UV Protection Wayfarer Sunglasses (50)',\n",
       " 'Gradient, UV Protection Aviator Sunglasses (58)',\n",
       " 'UV Protection Over-sized Sunglasses (57)',\n",
       " 'Polarized, UV Protection Aviator Sunglasses (53)',\n",
       " 'UV Protection, Riding Glasses Retro Square Sunglasses (...',\n",
       " 'UV Protection, Night Vision, Riding Glasses Wayfarer Su...',\n",
       " 'Polarized, UV Protection Round Sunglasses (51)',\n",
       " 'UV Protection Butterfly, Over-sized Sunglasses (62)',\n",
       " 'UV Protection Wayfarer Sunglasses (Free Size)',\n",
       " 'Gradient, UV Protection Wayfarer Sunglasses (Free Size)',\n",
       " 'UV Protection Round Sunglasses (Free Size)',\n",
       " 'Others Round Sunglasses (50)',\n",
       " 'Mirrored, UV Protection Wayfarer Sunglasses (18)',\n",
       " 'UV Protection Wayfarer Sunglasses (56)',\n",
       " 'Gradient, UV Protection Aviator Sunglasses (57)',\n",
       " 'Others Aviator Sunglasses (57)',\n",
       " 'UV Protection Round Sunglasses (52)',\n",
       " 'UV Protection Cat-eye Sunglasses (17)',\n",
       " 'UV Protection Rectangular Sunglasses (Free Size)',\n",
       " 'Others Aviator Sunglasses (58)',\n",
       " 'Gradient, Toughened Glass Lens, UV Protection Retro Squ...',\n",
       " 'UV Protection Wayfarer Sunglasses (55)',\n",
       " 'UV Protection Round Sunglasses (50)',\n",
       " 'UV Protection Oval Sunglasses (63)',\n",
       " 'Gradient, UV Protection Wayfarer Sunglasses (Free Size)',\n",
       " 'UV Protection Retro Square Sunglasses (54)',\n",
       " 'Polarized, UV Protection Wayfarer Sunglasses (61)',\n",
       " 'Others Round Sunglasses (52)',\n",
       " 'UV Protection Wayfarer Sunglasses (Free Size)',\n",
       " 'UV Protection Retro Square Sunglasses (53)',\n",
       " 'UV Protection Wayfarer Sunglasses (Free Size)',\n",
       " 'Others Round Sunglasses (53)',\n",
       " 'by Lenskart Polarized, UV Protection Cat-eye Sunglasses...',\n",
       " 'UV Protection Aviator Sunglasses (54)',\n",
       " 'Others Oval Sunglasses (Free Size)',\n",
       " 'UV Protection, Gradient Cat-eye Sunglasses (61)',\n",
       " 'UV Protection Sports Sunglasses (63)',\n",
       " 'UV Protection Retro Square Sunglasses (53)',\n",
       " 'Mirrored Aviator Sunglasses (Free Size)',\n",
       " 'UV Protection, Polarized Round Sunglasses (54)',\n",
       " 'UV Protection Wayfarer Sunglasses (50)',\n",
       " 'Gradient, UV Protection Aviator Sunglasses (58)',\n",
       " 'UV Protection Over-sized Sunglasses (57)',\n",
       " 'Polarized, UV Protection Aviator Sunglasses (53)',\n",
       " 'UV Protection, Riding Glasses Retro Square Sunglasses (...',\n",
       " 'UV Protection, Night Vision, Riding Glasses Wayfarer Su...',\n",
       " 'Polarized, UV Protection Round Sunglasses (51)',\n",
       " 'UV Protection Butterfly, Over-sized Sunglasses (62)',\n",
       " 'UV Protection Wayfarer Sunglasses (Free Size)',\n",
       " 'Gradient, UV Protection Wayfarer Sunglasses (Free Size)',\n",
       " 'UV Protection Round Sunglasses (Free Size)',\n",
       " 'Others Round Sunglasses (50)',\n",
       " 'Mirrored, UV Protection Wayfarer Sunglasses (18)',\n",
       " 'UV Protection Wayfarer Sunglasses (56)',\n",
       " 'Gradient, UV Protection Aviator Sunglasses (57)',\n",
       " 'Others Aviator Sunglasses (57)',\n",
       " 'UV Protection Round Sunglasses (52)',\n",
       " 'UV Protection Cat-eye Sunglasses (17)',\n",
       " 'UV Protection Rectangular Sunglasses (Free Size)',\n",
       " 'Others Aviator Sunglasses (58)']"
      ]
     },
     "execution_count": 287,
     "metadata": {},
     "output_type": "execute_result"
    }
   ],
   "source": [
    "Product_Description"
   ]
  },
  {
   "cell_type": "code",
   "execution_count": 288,
   "id": "5ac78c99",
   "metadata": {},
   "outputs": [],
   "source": [
    "# scraping price from the given page\n",
    "\n",
    "price_tags=driver.find_elements(By.XPATH,'//div[@class=\"_30jeq3\"]')\n",
    "for i in price_tags[0:100]:\n",
    "    price=i.text\n",
    "    glasses_price.append(price)\n",
    "    \n",
    "price_tags=driver.find_elements(By.XPATH,'//div[@class=\"_30jeq3\"]')\n",
    "for i in price_tags[0:100]:\n",
    "    price=i.text\n",
    "    glasses_price.append(price)\n",
    "    \n",
    "price_tags=driver.find_elements(By.XPATH,'//div[@class=\"_30jeq3\"]')\n",
    "for i in price_tags[0:20]:\n",
    "    price=i.text\n",
    "    glasses_price.append(price)\n",
    "    "
   ]
  },
  {
   "cell_type": "code",
   "execution_count": 289,
   "id": "261e2367",
   "metadata": {},
   "outputs": [
    {
     "data": {
      "text/plain": [
       "['₹146',\n",
       " '₹1,029',\n",
       " '₹1,319',\n",
       " '₹2,399',\n",
       " '₹226',\n",
       " '₹154',\n",
       " '₹899',\n",
       " '₹440',\n",
       " '₹459',\n",
       " '₹529',\n",
       " '₹263',\n",
       " '₹2,199',\n",
       " '₹1,099',\n",
       " '₹79',\n",
       " '₹223',\n",
       " '₹5,049',\n",
       " '₹489',\n",
       " '₹1,029',\n",
       " '₹199',\n",
       " '₹2,899',\n",
       " '₹507',\n",
       " '₹189',\n",
       " '₹319',\n",
       " '₹437',\n",
       " '₹529',\n",
       " '₹359',\n",
       " '₹424',\n",
       " '₹3,999',\n",
       " '₹639',\n",
       " '₹170',\n",
       " '₹120',\n",
       " '₹2,199',\n",
       " '₹801',\n",
       " '₹189',\n",
       " '₹287',\n",
       " '₹354',\n",
       " '₹479',\n",
       " '₹165',\n",
       " '₹271',\n",
       " '₹424',\n",
       " '₹146',\n",
       " '₹1,029',\n",
       " '₹1,319',\n",
       " '₹2,399',\n",
       " '₹226',\n",
       " '₹154',\n",
       " '₹899',\n",
       " '₹440',\n",
       " '₹459',\n",
       " '₹529',\n",
       " '₹263',\n",
       " '₹2,199',\n",
       " '₹1,099',\n",
       " '₹79',\n",
       " '₹223',\n",
       " '₹5,049',\n",
       " '₹489',\n",
       " '₹1,029',\n",
       " '₹199',\n",
       " '₹2,899',\n",
       " '₹507',\n",
       " '₹189',\n",
       " '₹319',\n",
       " '₹437',\n",
       " '₹529',\n",
       " '₹359',\n",
       " '₹424',\n",
       " '₹3,999',\n",
       " '₹639',\n",
       " '₹170',\n",
       " '₹120',\n",
       " '₹2,199',\n",
       " '₹801',\n",
       " '₹189',\n",
       " '₹287',\n",
       " '₹354',\n",
       " '₹479',\n",
       " '₹165',\n",
       " '₹271',\n",
       " '₹424',\n",
       " '₹146',\n",
       " '₹1,029',\n",
       " '₹1,319',\n",
       " '₹2,399',\n",
       " '₹226',\n",
       " '₹154',\n",
       " '₹899',\n",
       " '₹440',\n",
       " '₹459',\n",
       " '₹529',\n",
       " '₹263',\n",
       " '₹2,199',\n",
       " '₹1,099',\n",
       " '₹79',\n",
       " '₹223',\n",
       " '₹5,049',\n",
       " '₹489',\n",
       " '₹1,029',\n",
       " '₹199',\n",
       " '₹2,899']"
      ]
     },
     "execution_count": 289,
     "metadata": {},
     "output_type": "execute_result"
    }
   ],
   "source": [
    "glasses_price"
   ]
  },
  {
   "cell_type": "code",
   "execution_count": 290,
   "id": "56fbdd3a",
   "metadata": {},
   "outputs": [],
   "source": [
    "# scraping price from the given page\n",
    "\n",
    "Discount_tags=driver.find_elements(By.XPATH,'//div[@class=\"_3Ay6Sb\"]')\n",
    "for i in Discount_tags[0:100]:\n",
    "    Discount=i.text\n",
    "    discount.append(Discount)\n",
    "    \n",
    "Discount_tags=driver.find_elements(By.XPATH,'//div[@class=\"_3Ay6Sb\"]')\n",
    "for i in Discount_tags[0:100]:\n",
    "    Discount=i.text\n",
    "    discount.append(Discount)\n",
    "    \n",
    "Discount_tags=driver.find_elements(By.XPATH,'//div[@class=\"_3Ay6Sb\"]')\n",
    "for i in Discount_tags[0:20]:\n",
    "    Discount=i.text\n",
    "    discount.append(Discount)"
   ]
  },
  {
   "cell_type": "code",
   "execution_count": 291,
   "id": "ae5019c5",
   "metadata": {},
   "outputs": [
    {
     "name": "stdout",
     "output_type": "stream",
     "text": [
      "100 100 100 100\n"
     ]
    }
   ],
   "source": [
    "print(len(Brand_name),len(Product_Description),len(glasses_price),len(discount))"
   ]
  },
  {
   "cell_type": "code",
   "execution_count": 294,
   "id": "4f796afb",
   "metadata": {},
   "outputs": [
    {
     "data": {
      "text/html": [
       "<div>\n",
       "<style scoped>\n",
       "    .dataframe tbody tr th:only-of-type {\n",
       "        vertical-align: middle;\n",
       "    }\n",
       "\n",
       "    .dataframe tbody tr th {\n",
       "        vertical-align: top;\n",
       "    }\n",
       "\n",
       "    .dataframe thead th {\n",
       "        text-align: right;\n",
       "    }\n",
       "</style>\n",
       "<table border=\"1\" class=\"dataframe\">\n",
       "  <thead>\n",
       "    <tr style=\"text-align: right;\">\n",
       "      <th></th>\n",
       "      <th>Brand_name</th>\n",
       "      <th>Product_Description</th>\n",
       "      <th>Price</th>\n",
       "      <th>Discount</th>\n",
       "    </tr>\n",
       "  </thead>\n",
       "  <tbody>\n",
       "    <tr>\n",
       "      <th>0</th>\n",
       "      <td>SRPM</td>\n",
       "      <td>UV Protection Wayfarer Sunglasses (50)</td>\n",
       "      <td>₹146</td>\n",
       "      <td>88% off</td>\n",
       "    </tr>\n",
       "    <tr>\n",
       "      <th>1</th>\n",
       "      <td>IDEE</td>\n",
       "      <td>Gradient, UV Protection Aviator Sunglasses (58)</td>\n",
       "      <td>₹1,029</td>\n",
       "      <td>54% off</td>\n",
       "    </tr>\n",
       "    <tr>\n",
       "      <th>2</th>\n",
       "      <td>IDEE</td>\n",
       "      <td>UV Protection Over-sized Sunglasses (57)</td>\n",
       "      <td>₹1,319</td>\n",
       "      <td>52% off</td>\n",
       "    </tr>\n",
       "    <tr>\n",
       "      <th>3</th>\n",
       "      <td>john jacobs</td>\n",
       "      <td>Polarized, UV Protection Aviator Sunglasses (53)</td>\n",
       "      <td>₹2,399</td>\n",
       "      <td>46% off</td>\n",
       "    </tr>\n",
       "    <tr>\n",
       "      <th>4</th>\n",
       "      <td>ALIXERO</td>\n",
       "      <td>UV Protection, Riding Glasses Retro Square Sun...</td>\n",
       "      <td>₹226</td>\n",
       "      <td>89% off</td>\n",
       "    </tr>\n",
       "    <tr>\n",
       "      <th>...</th>\n",
       "      <td>...</td>\n",
       "      <td>...</td>\n",
       "      <td>...</td>\n",
       "      <td>...</td>\n",
       "    </tr>\n",
       "    <tr>\n",
       "      <th>95</th>\n",
       "      <td>CARRERA</td>\n",
       "      <td>Others Aviator Sunglasses (57)</td>\n",
       "      <td>₹5,049</td>\n",
       "      <td>50% off</td>\n",
       "    </tr>\n",
       "    <tr>\n",
       "      <th>96</th>\n",
       "      <td>Fastrack</td>\n",
       "      <td>UV Protection Round Sunglasses (52)</td>\n",
       "      <td>₹489</td>\n",
       "      <td>38% off</td>\n",
       "    </tr>\n",
       "    <tr>\n",
       "      <th>97</th>\n",
       "      <td>IDEE</td>\n",
       "      <td>UV Protection Cat-eye Sunglasses (17)</td>\n",
       "      <td>₹1,029</td>\n",
       "      <td>54% off</td>\n",
       "    </tr>\n",
       "    <tr>\n",
       "      <th>98</th>\n",
       "      <td>kingsunglasses</td>\n",
       "      <td>UV Protection Rectangular Sunglasses (Free Size)</td>\n",
       "      <td>₹199</td>\n",
       "      <td>80% off</td>\n",
       "    </tr>\n",
       "    <tr>\n",
       "      <th>99</th>\n",
       "      <td>FOSSIL</td>\n",
       "      <td>Others Aviator Sunglasses (58)</td>\n",
       "      <td>₹2,899</td>\n",
       "      <td>66% off</td>\n",
       "    </tr>\n",
       "  </tbody>\n",
       "</table>\n",
       "<p>100 rows × 4 columns</p>\n",
       "</div>"
      ],
      "text/plain": [
       "        Brand_name                                Product_Description   Price  \\\n",
       "0             SRPM             UV Protection Wayfarer Sunglasses (50)    ₹146   \n",
       "1             IDEE    Gradient, UV Protection Aviator Sunglasses (58)  ₹1,029   \n",
       "2             IDEE           UV Protection Over-sized Sunglasses (57)  ₹1,319   \n",
       "3      john jacobs   Polarized, UV Protection Aviator Sunglasses (53)  ₹2,399   \n",
       "4          ALIXERO  UV Protection, Riding Glasses Retro Square Sun...    ₹226   \n",
       "..             ...                                                ...     ...   \n",
       "95         CARRERA                     Others Aviator Sunglasses (57)  ₹5,049   \n",
       "96        Fastrack                UV Protection Round Sunglasses (52)    ₹489   \n",
       "97            IDEE              UV Protection Cat-eye Sunglasses (17)  ₹1,029   \n",
       "98  kingsunglasses   UV Protection Rectangular Sunglasses (Free Size)    ₹199   \n",
       "99          FOSSIL                     Others Aviator Sunglasses (58)  ₹2,899   \n",
       "\n",
       "   Discount  \n",
       "0   88% off  \n",
       "1   54% off  \n",
       "2   52% off  \n",
       "3   46% off  \n",
       "4   89% off  \n",
       "..      ...  \n",
       "95  50% off  \n",
       "96  38% off  \n",
       "97  54% off  \n",
       "98  80% off  \n",
       "99  66% off  \n",
       "\n",
       "[100 rows x 4 columns]"
      ]
     },
     "execution_count": 294,
     "metadata": {},
     "output_type": "execute_result"
    }
   ],
   "source": [
    "\n",
    "\n",
    "df=pd.DataFrame({'Brand_name':Brand_name,'Product_Description':Product_Description,'Price':glasses_price,'Discount':discount})\n",
    "df"
   ]
  },
  {
   "cell_type": "markdown",
   "id": "e1d5c145",
   "metadata": {},
   "source": [
    "# Q5: Scrape 100 reviews data from flipkart.com for iphone11 phone.\n"
   ]
  },
  {
   "cell_type": "code",
   "execution_count": 504,
   "id": "0c0002c6",
   "metadata": {},
   "outputs": [],
   "source": [
    "driver.get('https://www.flipkart.com/')"
   ]
  },
  {
   "cell_type": "code",
   "execution_count": 505,
   "id": "31ba6849",
   "metadata": {},
   "outputs": [],
   "source": [
    "product=driver.find_element(By.XPATH,'/html/body/div[1]/div/div[1]/div[1]/div[2]/div[2]/form/div/div/input')\n",
    "product.send_keys('iphone 11')"
   ]
  },
  {
   "cell_type": "code",
   "execution_count": 506,
   "id": "0a11535d",
   "metadata": {},
   "outputs": [],
   "source": [
    "search=driver.find_element(By.CLASS_NAME,'L0Z3Pu')\n",
    "search.click()"
   ]
  },
  {
   "cell_type": "code",
   "execution_count": 652,
   "id": "46d33c42",
   "metadata": {},
   "outputs": [],
   "source": [
    "Rating=[]\n",
    "Review_summary=[]"
   ]
  },
  {
   "cell_type": "code",
   "execution_count": 653,
   "id": "270fffce",
   "metadata": {},
   "outputs": [],
   "source": [
    "# scraping rating from the given page\n",
    "\n",
    "rating_tags=driver.find_elements(By.XPATH,'//div[@class=\"_3LWZlK _1BLPMq\"]')\n",
    "for i in rating_tags[0:100]:\n",
    "    rating=i.text\n",
    "    Rating.append(rating)\n",
    "    \n",
    "rating_tags=driver.find_elements(By.XPATH,'//div[@class=\"_3LWZlK _1BLPMq\"]')\n",
    "for i in rating_tags[0:100]:\n",
    "    rating=i.text\n",
    "    Rating.append(rating)\n",
    "    \n",
    "rating_tags=driver.find_elements(By.XPATH,'//div[@class=\"_3LWZlK _1BLPMq\"]')\n",
    "for i in rating_tags[0:100]:\n",
    "    rating=i.text\n",
    "    Rating.append(rating)\n",
    "    \n",
    "rating_tags=driver.find_elements(By.XPATH,'//div[@class=\"_3LWZlK _1BLPMq\"]')\n",
    "for i in rating_tags[0:100]:\n",
    "    rating=i.text\n",
    "    Rating.append(rating)\n",
    "    \n",
    "rating_tags=driver.find_elements(By.XPATH,'//div[@class=\"_3LWZlK _1BLPMq\"]')\n",
    "for i in rating_tags[0:100]:\n",
    "    rating=i.text\n",
    "    Rating.append(rating)\n",
    "    \n",
    "rating_tags=driver.find_elements(By.XPATH,'//div[@class=\"_3LWZlK _1BLPMq\"]')\n",
    "for i in rating_tags[0:100]:\n",
    "    rating=i.text\n",
    "    Rating.append(rating)\n",
    "    \n",
    "rating_tags=driver.find_elements(By.XPATH,'//div[@class=\"_3LWZlK _1BLPMq\"]')\n",
    "for i in rating_tags[0:100]:\n",
    "    rating=i.text\n",
    "    Rating.append(rating)\n",
    "    \n",
    "rating_tags=driver.find_elements(By.XPATH,'//div[@class=\"_3LWZlK _1BLPMq\"]')\n",
    "for i in rating_tags[0:100]:\n",
    "    rating=i.text\n",
    "    Rating.append(rating)\n",
    "    \n",
    "rating_tags=driver.find_elements(By.XPATH,'//div[@class=\"_3LWZlK _1BLPMq\"]')\n",
    "for i in rating_tags[0:100]:\n",
    "    rating=i.text\n",
    "    Rating.append(rating)\n",
    "    \n",
    "rating_tags=driver.find_elements(By.XPATH,'//div[@class=\"_3LWZlK _1BLPMq\"]')\n",
    "for i in rating_tags[0:100]:\n",
    "    rating=i.text\n",
    "    Rating.append(rating)\n",
    "    \n",
    "rating_tags=driver.find_elements(By.XPATH,'//div[@class=\"_3LWZlK _1BLPMq\"]')\n",
    "for i in rating_tags[0:100]:\n",
    "    rating=i.text\n",
    "    Rating.append(rating)\n",
    "    \n",
    "rating_tags=driver.find_elements(By.XPATH,'//div[@class=\"_3LWZlK _1BLPMq\"]')\n",
    "for i in rating_tags[0:4]:\n",
    "    rating=i.text\n",
    "    Rating.append(rating)\n",
    "    \n"
   ]
  },
  {
   "cell_type": "code",
   "execution_count": 654,
   "id": "6b3ed7db",
   "metadata": {},
   "outputs": [],
   "source": [
    "Review_tags=driver.find_elements(By.XPATH,'//p[@class=\"_2-N8zT\"]')\n",
    "for i in Review_tags[0:100]:\n",
    "    Review=i.text\n",
    "    Review_summary.append(Review)\n",
    "\n",
    "Review_tags=driver.find_elements(By.XPATH,'//p[@class=\"_2-N8zT\"]')\n",
    "for i in Review_tags[0:100]:\n",
    "    Review=i.text\n",
    "    Review_summary.append(Review)\n",
    "    \n",
    "Review_tags=driver.find_elements(By.XPATH,'//p[@class=\"_2-N8zT\"]')\n",
    "for i in Review_tags[0:100]:\n",
    "    Review=i.text\n",
    "    Review_summary.append(Review)\n",
    "    \n",
    "Review_tags=driver.find_elements(By.XPATH,'//p[@class=\"_2-N8zT\"]')\n",
    "for i in Review_tags[0:100]:\n",
    "    Review=i.text\n",
    "    Review_summary.append(Review)\n",
    "    \n",
    "Review_tags=driver.find_elements(By.XPATH,'//p[@class=\"_2-N8zT\"]')\n",
    "for i in Review_tags[0:100]:\n",
    "    Review=i.text\n",
    "    Review_summary.append(Review)\n",
    "    \n",
    "Review_tags=driver.find_elements(By.XPATH,'//p[@class=\"_2-N8zT\"]')\n",
    "for i in Review_tags[0:100]:\n",
    "    Review=i.text\n",
    "    Review_summary.append(Review)\n",
    "    \n",
    "rating_tags=driver.find_elements(By.XPATH,'//p[@class=\"_2-N8zT\"]')\n",
    "for i in rating_tags[0:100]:\n",
    "    Review=i.text\n",
    "    Rating.append(rating)\n",
    "    \n",
    "Review_tags=driver.find_elements(By.XPATH,'//p[@class=\"_2-N8zT\"]')\n",
    "for i in Review_tags[0:100]:\n",
    "    Review=i.text\n",
    "    Review_summary.append(Review)\n",
    "    \n",
    "Review_tags=driver.find_elements(By.XPATH,'//p[@class=\"_2-N8zT\"]')\n",
    "for i in Review_tags[0:100]:\n",
    "    Review=i.text\n",
    "    Review_summary.append(Review)\n",
    "    \n",
    "Review_tags=driver.find_elements(By.XPATH,'//p[@class=\"_2-N8zT\"]')\n",
    "for i in Review_tags[0:100]:\n",
    "    Review=i.text\n",
    "    Review_summary.append(Review)\n",
    "    \n",
    "\n",
    "Review_tags=driver.find_elements(By.XPATH,'//p[@class=\"_2-N8zT\"]')\n",
    "for i in Review_tags[0:100]:\n",
    "    Review=i.text\n",
    "    Review_summary.append(Review)\n",
    "    \n",
    "Review_tags=driver.find_elements(By.XPATH,'//p[@class=\"_2-N8zT\"]')\n",
    "for i in Review_tags[0:100]:\n",
    "    Review=i.text\n",
    "    Review_summary.append(Review)\n",
    "    \n",
    "Review_tags=driver.find_elements(By.XPATH,'//p[@class=\"_2-N8zT\"]')\n",
    "for i in Review_tags[0:100]:\n",
    "    Review=i.text\n",
    "    Review_summary.append(Review)\n",
    "    \n",
    "    \n",
    "Review_tags=driver.find_elements(By.XPATH,'//p[@class=\"_2-N8zT\"]')\n",
    "for i in Review_tags[0:4]:\n",
    "    Review=i.text\n",
    "    Review_summary.append(Review)\n",
    "    "
   ]
  },
  {
   "cell_type": "code",
   "execution_count": 655,
   "id": "daf6ac7f",
   "metadata": {},
   "outputs": [],
   "source": [
    "Full_review=[]"
   ]
  },
  {
   "cell_type": "code",
   "execution_count": 656,
   "id": "2d09cc1f",
   "metadata": {},
   "outputs": [],
   "source": [
    "full_review_tags=driver.find_elements(By.XPATH,'//div[@class=\"t-ZTKy\"]')\n",
    "for i in full_review_tags[0:100]:\n",
    "    review=i.text\n",
    "    Full_review.append(review)\n",
    "    \n",
    "full_review_tags=driver.find_elements(By.XPATH,'//div[@class=\"t-ZTKy\"]')\n",
    "for i in full_review_tags[0:100]:\n",
    "    review=i.text\n",
    "    Full_review.append(review)\n",
    "    \n",
    "full_review_tags=driver.find_elements(By.XPATH,'//div[@class=\"t-ZTKy\"]')\n",
    "for i in full_review_tags[0:100]:\n",
    "    review=i.text\n",
    "    Full_review.append(review)\n",
    "    \n",
    "full_review_tags=driver.find_elements(By.XPATH,'//div[@class=\"t-ZTKy\"]')\n",
    "for i in full_review_tags[0:100]:\n",
    "    review=i.text\n",
    "    Full_review.append(review)\n",
    "    \n",
    "full_review_tags=driver.find_elements(By.XPATH,'//div[@class=\"t-ZTKy\"]')\n",
    "for i in full_review_tags[0:100]:\n",
    "    review=i.text\n",
    "    Full_review.append(review)\n",
    "    \n",
    "full_review_tags=driver.find_elements(By.XPATH,'//div[@class=\"t-ZTKy\"]')\n",
    "for i in full_review_tags[0:100]:\n",
    "    review=i.text\n",
    "    Full_review.append(review)\n",
    "    \n",
    "full_review_tags=driver.find_elements(By.XPATH,'//div[@class=\"t-ZTKy\"]')\n",
    "for i in full_review_tags[0:100]:\n",
    "    review=i.text\n",
    "    Full_review.append(review)\n",
    "    \n",
    "full_review_tags=driver.find_elements(By.XPATH,'//div[@class=\"t-ZTKy\"]')\n",
    "for i in full_review_tags[0:100]:\n",
    "    review=i.text\n",
    "    Full_review.append(review)\n",
    "    \n",
    "    \n",
    "full_review_tags=driver.find_elements(By.XPATH,'//div[@class=\"t-ZTKy\"]')\n",
    "for i in full_review_tags[0:100]:\n",
    "    review=i.text\n",
    "    Full_review.append(review)\n",
    "    \n",
    "    \n",
    "full_review_tags=driver.find_elements(By.XPATH,'//div[@class=\"t-ZTKy\"]')\n",
    "for i in full_review_tags[0:100]:\n",
    "    review=i.text\n",
    "    Full_review.append(review)\n",
    "    \n",
    "    \n",
    "full_review_tags=driver.find_elements(By.XPATH,'//div[@class=\"t-ZTKy\"]')\n",
    "for i in full_review_tags[0:100]:\n",
    "    review=i.text\n",
    "    Full_review.append(review)\n",
    "    \n",
    "full_review_tags=driver.find_elements(By.XPATH,'//div[@class=\"t-ZTKy\"]')\n",
    "for i in full_review_tags[0:100]:\n",
    "    review=i.text\n",
    "    Full_review.append(review)\n",
    "    \n",
    "full_review_tags=driver.find_elements(By.XPATH,'//div[@class=\"t-ZTKy\"]')\n",
    "for i in full_review_tags[0:4]:\n",
    "    review=i.text\n",
    "    Full_review.append(review)"
   ]
  },
  {
   "cell_type": "code",
   "execution_count": 657,
   "id": "f787fae6",
   "metadata": {},
   "outputs": [
    {
     "name": "stdout",
     "output_type": "stream",
     "text": [
      "100 100 100\n"
     ]
    }
   ],
   "source": [
    "\n",
    "print(len(Rating),len(Full_review),len(Review_summary))"
   ]
  },
  {
   "cell_type": "code",
   "execution_count": 659,
   "id": "ece12153",
   "metadata": {},
   "outputs": [],
   "source": [
    "\n",
    "\n",
    "\n",
    "df=pd.DataFrame({'Rating':Rating,'Review_summary':Review_summary,'Full_review':Full_review})"
   ]
  },
  {
   "cell_type": "code",
   "execution_count": 660,
   "id": "50eec677",
   "metadata": {},
   "outputs": [
    {
     "data": {
      "text/html": [
       "<div>\n",
       "<style scoped>\n",
       "    .dataframe tbody tr th:only-of-type {\n",
       "        vertical-align: middle;\n",
       "    }\n",
       "\n",
       "    .dataframe tbody tr th {\n",
       "        vertical-align: top;\n",
       "    }\n",
       "\n",
       "    .dataframe thead th {\n",
       "        text-align: right;\n",
       "    }\n",
       "</style>\n",
       "<table border=\"1\" class=\"dataframe\">\n",
       "  <thead>\n",
       "    <tr style=\"text-align: right;\">\n",
       "      <th></th>\n",
       "      <th>Rating</th>\n",
       "      <th>Review_summary</th>\n",
       "      <th>Full_review</th>\n",
       "    </tr>\n",
       "  </thead>\n",
       "  <tbody>\n",
       "    <tr>\n",
       "      <th>0</th>\n",
       "      <td>5</td>\n",
       "      <td>Perfect product!</td>\n",
       "      <td>After using 3 years mobile review. Excellent &amp;...</td>\n",
       "    </tr>\n",
       "    <tr>\n",
       "      <th>1</th>\n",
       "      <td>5</td>\n",
       "      <td>Terrific</td>\n",
       "      <td>I am using the phone for last 5 years and foun...</td>\n",
       "    </tr>\n",
       "    <tr>\n",
       "      <th>2</th>\n",
       "      <td>4</td>\n",
       "      <td>Value-for-money</td>\n",
       "      <td>I'm Really happy with the product\\nDelivery wa...</td>\n",
       "    </tr>\n",
       "    <tr>\n",
       "      <th>3</th>\n",
       "      <td>5</td>\n",
       "      <td>Classy product</td>\n",
       "      <td>Awesome for this price range</td>\n",
       "    </tr>\n",
       "    <tr>\n",
       "      <th>4</th>\n",
       "      <td>4</td>\n",
       "      <td>Good quality product</td>\n",
       "      <td>impressively Nice......\\nOne of the greatest i...</td>\n",
       "    </tr>\n",
       "    <tr>\n",
       "      <th>...</th>\n",
       "      <td>...</td>\n",
       "      <td>...</td>\n",
       "      <td>...</td>\n",
       "    </tr>\n",
       "    <tr>\n",
       "      <th>95</th>\n",
       "      <td>5</td>\n",
       "      <td>Mind-blowing purchase</td>\n",
       "      <td>Fantastic and prompt delivery.</td>\n",
       "    </tr>\n",
       "    <tr>\n",
       "      <th>96</th>\n",
       "      <td>5</td>\n",
       "      <td>Perfect product!</td>\n",
       "      <td>After using 3 years mobile review. Excellent &amp;...</td>\n",
       "    </tr>\n",
       "    <tr>\n",
       "      <th>97</th>\n",
       "      <td>5</td>\n",
       "      <td>Terrific</td>\n",
       "      <td>I am using the phone for last 5 years and foun...</td>\n",
       "    </tr>\n",
       "    <tr>\n",
       "      <th>98</th>\n",
       "      <td>5</td>\n",
       "      <td>Value-for-money</td>\n",
       "      <td>I'm Really happy with the product\\nDelivery wa...</td>\n",
       "    </tr>\n",
       "    <tr>\n",
       "      <th>99</th>\n",
       "      <td>5</td>\n",
       "      <td>Classy product</td>\n",
       "      <td>Awesome for this price range</td>\n",
       "    </tr>\n",
       "  </tbody>\n",
       "</table>\n",
       "<p>100 rows × 3 columns</p>\n",
       "</div>"
      ],
      "text/plain": [
       "   Rating         Review_summary  \\\n",
       "0       5       Perfect product!   \n",
       "1       5               Terrific   \n",
       "2       4        Value-for-money   \n",
       "3       5         Classy product   \n",
       "4       4   Good quality product   \n",
       "..    ...                    ...   \n",
       "95      5  Mind-blowing purchase   \n",
       "96      5       Perfect product!   \n",
       "97      5               Terrific   \n",
       "98      5        Value-for-money   \n",
       "99      5         Classy product   \n",
       "\n",
       "                                          Full_review  \n",
       "0   After using 3 years mobile review. Excellent &...  \n",
       "1   I am using the phone for last 5 years and foun...  \n",
       "2   I'm Really happy with the product\\nDelivery wa...  \n",
       "3                        Awesome for this price range  \n",
       "4   impressively Nice......\\nOne of the greatest i...  \n",
       "..                                                ...  \n",
       "95                     Fantastic and prompt delivery.  \n",
       "96  After using 3 years mobile review. Excellent &...  \n",
       "97  I am using the phone for last 5 years and foun...  \n",
       "98  I'm Really happy with the product\\nDelivery wa...  \n",
       "99                       Awesome for this price range  \n",
       "\n",
       "[100 rows x 3 columns]"
      ]
     },
     "execution_count": 660,
     "metadata": {},
     "output_type": "execute_result"
    }
   ],
   "source": [
    "df"
   ]
  },
  {
   "cell_type": "markdown",
   "id": "a9b8eebd",
   "metadata": {},
   "source": [
    "# Q6: Scrape data for first 100 sneakers you find when you visit flipkart.com and search for “sneakers” in the \n",
    "search field"
   ]
  },
  {
   "cell_type": "code",
   "execution_count": 526,
   "id": "d4c16425",
   "metadata": {},
   "outputs": [],
   "source": [
    "driver.get('https://www.flipkart.com/')"
   ]
  },
  {
   "cell_type": "code",
   "execution_count": 527,
   "id": "5ea37a2c",
   "metadata": {},
   "outputs": [],
   "source": [
    "product=driver.find_element(By.XPATH,'/html/body/div[1]/div/div[1]/div[1]/div[2]/div[2]/form/div/div/input')\n",
    "product.send_keys('sneakers')"
   ]
  },
  {
   "cell_type": "code",
   "execution_count": 529,
   "id": "0c36f79c",
   "metadata": {},
   "outputs": [],
   "source": [
    "search=driver.find_element(By.CLASS_NAME,'L0Z3Pu')\n",
    "search.click()"
   ]
  },
  {
   "cell_type": "code",
   "execution_count": 597,
   "id": "0cc903fc",
   "metadata": {},
   "outputs": [],
   "source": [
    "Brand = []\n",
    "Product_Description=[]\n",
    "products_Price=[]"
   ]
  },
  {
   "cell_type": "code",
   "execution_count": 598,
   "id": "6a1091bb",
   "metadata": {},
   "outputs": [],
   "source": [
    "# scraping brand_name from the given page\n",
    "\n",
    "brand_tags=driver.find_elements(By.XPATH,'//div[@class=\"_2WkVRV\"]')\n",
    "for i in brand_tags[0:100]:\n",
    "    brand=i.text\n",
    "    Brand.append(brand)\n",
    "\n",
    "brand_tags=driver.find_elements(By.XPATH,'//div[@class=\"_2WkVRV\"]')\n",
    "for i in brand_tags[0:100]:\n",
    "    brand=i.text\n",
    "    Brand.append(brand)\n",
    "    \n",
    "brand_tags=driver.find_elements(By.XPATH,'//div[@class=\"_2WkVRV\"]')\n",
    "for i in brand_tags[0:20]:\n",
    "    brand=i.text\n",
    "    Brand.append(brand)"
   ]
  },
  {
   "cell_type": "code",
   "execution_count": 599,
   "id": "b452f4a6",
   "metadata": {},
   "outputs": [
    {
     "name": "stdout",
     "output_type": "stream",
     "text": [
      "100\n"
     ]
    }
   ],
   "source": [
    "print(len(Brand))"
   ]
  },
  {
   "cell_type": "code",
   "execution_count": 600,
   "id": "40ee042c",
   "metadata": {},
   "outputs": [],
   "source": [
    "# scraping Product_Description from the given page\n",
    "\n",
    "description_tags=driver.find_elements(By.XPATH,'//a[@class=\"IRpwTa\"]')\n",
    "for i in description_tags[0:100]:\n",
    "    Description=i.text\n",
    "    Product_Description.append(Description)\n",
    "    \n",
    "description_tags=driver.find_elements(By.XPATH,'//a[@class=\"IRpwTa\"]')\n",
    "for i in description_tags[0:100]:\n",
    "    Description=i.text\n",
    "    Product_Description.append(Description)\n",
    "    \n",
    "description_tags=driver.find_elements(By.XPATH,'//a[@class=\"IRpwTa\"]')\n",
    "for i in description_tags[0:22]:\n",
    "    Description=i.text\n",
    "    Product_Description.append(Description)"
   ]
  },
  {
   "cell_type": "code",
   "execution_count": 601,
   "id": "7bcf6f07",
   "metadata": {},
   "outputs": [
    {
     "name": "stdout",
     "output_type": "stream",
     "text": [
      "100\n"
     ]
    }
   ],
   "source": [
    "print(len(Product_Description))"
   ]
  },
  {
   "cell_type": "code",
   "execution_count": 602,
   "id": "609b026c",
   "metadata": {},
   "outputs": [],
   "source": [
    "# scraping price from the given page\n",
    "\n",
    "price_tags=driver.find_elements(By.XPATH,'//div[@class=\"_30jeq3\"]')\n",
    "for i in price_tags[0:100]:\n",
    "    price=i.text\n",
    "    products_Price.append(price)\n",
    "    \n",
    "price_tags=driver.find_elements(By.XPATH,'//div[@class=\"_30jeq3\"]')\n",
    "for i in price_tags[0:100]:\n",
    "    price=i.text\n",
    "    products_Price.append(price)\n",
    "    \n",
    "price_tags=driver.find_elements(By.XPATH,'//div[@class=\"_30jeq3\"]')\n",
    "for i in price_tags[0:20]:\n",
    "    price=i.text\n",
    "    products_Price.append(price)\n",
    "    "
   ]
  },
  {
   "cell_type": "code",
   "execution_count": 603,
   "id": "75d88c34",
   "metadata": {},
   "outputs": [
    {
     "name": "stdout",
     "output_type": "stream",
     "text": [
      "100\n"
     ]
    }
   ],
   "source": [
    "print(len(products_Price))"
   ]
  },
  {
   "cell_type": "code",
   "execution_count": 616,
   "id": "edb6b874",
   "metadata": {},
   "outputs": [],
   "source": [
    "Discount = []"
   ]
  },
  {
   "cell_type": "code",
   "execution_count": 617,
   "id": "f42d0ffd",
   "metadata": {},
   "outputs": [],
   "source": [
    "# scraping price from the given page\n",
    "\n",
    "discount_tags=driver.find_elements(By.XPATH,'//div[@class=\"_3Ay6Sb\"]')\n",
    "for i in discount_tags[0:100]:\n",
    "    discount=i.text\n",
    "    Discount.append(discount)\n",
    "    \n",
    "discount_tags=driver.find_elements(By.XPATH,'//div[@class=\"_3Ay6Sb\"]')\n",
    "for i in discount_tags[0:100]:\n",
    "    discount=i.text\n",
    "    Discount.append(discount)\n",
    "    \n",
    "discount_tags=driver.find_elements(By.XPATH,'//div[@class=\"_3Ay6Sb\"]')\n",
    "for i in discount_tags[0:20]:\n",
    "    discount=i.text\n",
    "    Discount.append(discount)"
   ]
  },
  {
   "cell_type": "code",
   "execution_count": 618,
   "id": "91617435",
   "metadata": {},
   "outputs": [
    {
     "name": "stdout",
     "output_type": "stream",
     "text": [
      "100\n"
     ]
    }
   ],
   "source": [
    "print(len(Discount))"
   ]
  },
  {
   "cell_type": "code",
   "execution_count": 619,
   "id": "82bd9904",
   "metadata": {},
   "outputs": [],
   "source": [
    "df=pd.DataFrame({'Brand':Brand,'Product_Description':Product_Description,'Price':products_Price,'Discount':discount})"
   ]
  },
  {
   "cell_type": "code",
   "execution_count": 620,
   "id": "a503e3c7",
   "metadata": {},
   "outputs": [
    {
     "data": {
      "text/html": [
       "<div>\n",
       "<style scoped>\n",
       "    .dataframe tbody tr th:only-of-type {\n",
       "        vertical-align: middle;\n",
       "    }\n",
       "\n",
       "    .dataframe tbody tr th {\n",
       "        vertical-align: top;\n",
       "    }\n",
       "\n",
       "    .dataframe thead th {\n",
       "        text-align: right;\n",
       "    }\n",
       "</style>\n",
       "<table border=\"1\" class=\"dataframe\">\n",
       "  <thead>\n",
       "    <tr style=\"text-align: right;\">\n",
       "      <th></th>\n",
       "      <th>Brand</th>\n",
       "      <th>Product_Description</th>\n",
       "      <th>Price</th>\n",
       "      <th>Discount</th>\n",
       "    </tr>\n",
       "  </thead>\n",
       "  <tbody>\n",
       "    <tr>\n",
       "      <th>0</th>\n",
       "      <td>Neeman's</td>\n",
       "      <td>Sneakers For Men</td>\n",
       "      <td>₹1,899</td>\n",
       "      <td>68% off</td>\n",
       "    </tr>\n",
       "    <tr>\n",
       "      <th>1</th>\n",
       "      <td>Neeman's</td>\n",
       "      <td>Tree Sneakers For Men And Women Sneakers For Men</td>\n",
       "      <td>₹1,899</td>\n",
       "      <td>68% off</td>\n",
       "    </tr>\n",
       "    <tr>\n",
       "      <th>2</th>\n",
       "      <td>BRUTON</td>\n",
       "      <td>Lightweight Pack Of 1 Trendy Sneakers Sneakers...</td>\n",
       "      <td>₹143</td>\n",
       "      <td>68% off</td>\n",
       "    </tr>\n",
       "    <tr>\n",
       "      <th>3</th>\n",
       "      <td>TR</td>\n",
       "      <td>Casual White Sneakers For Men</td>\n",
       "      <td>₹239</td>\n",
       "      <td>68% off</td>\n",
       "    </tr>\n",
       "    <tr>\n",
       "      <th>4</th>\n",
       "      <td>World Wear Footwear</td>\n",
       "      <td>Exclusive Affordable Collection of Trendy &amp; St...</td>\n",
       "      <td>₹239</td>\n",
       "      <td>68% off</td>\n",
       "    </tr>\n",
       "    <tr>\n",
       "      <th>...</th>\n",
       "      <td>...</td>\n",
       "      <td>...</td>\n",
       "      <td>...</td>\n",
       "      <td>...</td>\n",
       "    </tr>\n",
       "    <tr>\n",
       "      <th>95</th>\n",
       "      <td>AMICO</td>\n",
       "      <td>Sneakers For Women</td>\n",
       "      <td>₹324</td>\n",
       "      <td>68% off</td>\n",
       "    </tr>\n",
       "    <tr>\n",
       "      <th>96</th>\n",
       "      <td>BRUTON</td>\n",
       "      <td>Sneakers For Men</td>\n",
       "      <td>₹191</td>\n",
       "      <td>68% off</td>\n",
       "    </tr>\n",
       "    <tr>\n",
       "      <th>97</th>\n",
       "      <td>Deals4you</td>\n",
       "      <td>DEMON High-top casual shoe with Flat outsole h...</td>\n",
       "      <td>₹260</td>\n",
       "      <td>68% off</td>\n",
       "    </tr>\n",
       "    <tr>\n",
       "      <th>98</th>\n",
       "      <td>RED TAPE</td>\n",
       "      <td>Sneakers For Men</td>\n",
       "      <td>₹1,399</td>\n",
       "      <td>68% off</td>\n",
       "    </tr>\n",
       "    <tr>\n",
       "      <th>99</th>\n",
       "      <td>bacca bucci</td>\n",
       "      <td>Sneakers For Men</td>\n",
       "      <td>₹1,414</td>\n",
       "      <td>68% off</td>\n",
       "    </tr>\n",
       "  </tbody>\n",
       "</table>\n",
       "<p>100 rows × 4 columns</p>\n",
       "</div>"
      ],
      "text/plain": [
       "                  Brand                                Product_Description  \\\n",
       "0              Neeman's                                   Sneakers For Men   \n",
       "1              Neeman's   Tree Sneakers For Men And Women Sneakers For Men   \n",
       "2                BRUTON  Lightweight Pack Of 1 Trendy Sneakers Sneakers...   \n",
       "3                    TR                      Casual White Sneakers For Men   \n",
       "4   World Wear Footwear  Exclusive Affordable Collection of Trendy & St...   \n",
       "..                  ...                                                ...   \n",
       "95                AMICO                                 Sneakers For Women   \n",
       "96               BRUTON                                   Sneakers For Men   \n",
       "97            Deals4you  DEMON High-top casual shoe with Flat outsole h...   \n",
       "98             RED TAPE                                   Sneakers For Men   \n",
       "99          bacca bucci                                   Sneakers For Men   \n",
       "\n",
       "     Price Discount  \n",
       "0   ₹1,899  68% off  \n",
       "1   ₹1,899  68% off  \n",
       "2     ₹143  68% off  \n",
       "3     ₹239  68% off  \n",
       "4     ₹239  68% off  \n",
       "..     ...      ...  \n",
       "95    ₹324  68% off  \n",
       "96    ₹191  68% off  \n",
       "97    ₹260  68% off  \n",
       "98  ₹1,399  68% off  \n",
       "99  ₹1,414  68% off  \n",
       "\n",
       "[100 rows x 4 columns]"
      ]
     },
     "execution_count": 620,
     "metadata": {},
     "output_type": "execute_result"
    }
   ],
   "source": [
    "df"
   ]
  },
  {
   "cell_type": "markdown",
   "id": "064fdb37",
   "metadata": {},
   "source": [
    "# Q7: Go to the link - https://www.myntra.com/shoes\n",
    "Set second Price filter and Color filter to “Black”, as shown in the below image.\n"
   ]
  },
  {
   "cell_type": "code",
   "execution_count": 4,
   "id": "b8e9dcf0",
   "metadata": {},
   "outputs": [],
   "source": [
    "driver.get('https://www.myntra.com/shoes')"
   ]
  },
  {
   "cell_type": "code",
   "execution_count": 120,
   "id": "51356245",
   "metadata": {},
   "outputs": [],
   "source": [
    "Brand=[]\n",
    "Short_Shoe_description=[]\n"
   ]
  },
  {
   "cell_type": "code",
   "execution_count": 121,
   "id": "7094fb7b",
   "metadata": {},
   "outputs": [],
   "source": [
    "# Brand scrape\n",
    "\n",
    "\n",
    "brand_tags=driver.find_elements(By.XPATH,'//H3[@class=\"product-brand\"]')\n",
    "for i in brand_tags[0:100]:\n",
    "    brand=i.text\n",
    "    Brand.append(brand)\n",
    "    \n",
    "brand_tags=driver.find_elements(By.XPATH,'//h3[@class=\"product-brand\"]')\n",
    "for i in brand_tags[0:100]:\n",
    "    brand=i.text\n",
    "    Brand.append(brand)"
   ]
  },
  {
   "cell_type": "code",
   "execution_count": 122,
   "id": "584d7923",
   "metadata": {},
   "outputs": [
    {
     "name": "stdout",
     "output_type": "stream",
     "text": [
      "100\n"
     ]
    }
   ],
   "source": [
    "print(len(Brand))"
   ]
  },
  {
   "cell_type": "code",
   "execution_count": 123,
   "id": "2e7bd82f",
   "metadata": {},
   "outputs": [],
   "source": [
    "# Shoe description scrape\n",
    "\n",
    "Short_description_tags=driver.find_elements(By.XPATH,'//h4[@class=\"product-product\"]')\n",
    "for i in Short_description_tags[0:100]:\n",
    "    description=i.text\n",
    "    Short_Shoe_description.append(description)\n",
    "    \n",
    "Short_description_tags=driver.find_elements(By.XPATH,'//h4[@class=\"product-product\"]')\n",
    "for i in Short_description_tags[0:100]:\n",
    "    description=i.text\n",
    "    Short_Shoe_description.append(description)"
   ]
  },
  {
   "cell_type": "code",
   "execution_count": 124,
   "id": "64cbf3b0",
   "metadata": {},
   "outputs": [
    {
     "name": "stdout",
     "output_type": "stream",
     "text": [
      "100\n"
     ]
    }
   ],
   "source": [
    "print(len(Short_Shoe_description))"
   ]
  },
  {
   "cell_type": "code",
   "execution_count": 129,
   "id": "07a502b6",
   "metadata": {},
   "outputs": [],
   "source": [
    "price = []"
   ]
  },
  {
   "cell_type": "code",
   "execution_count": 130,
   "id": "c9faebbb",
   "metadata": {},
   "outputs": [],
   "source": [
    "shoe_price_tags=driver.find_elements(By.XPATH,'//div[@class=\"product-price\"]')\n",
    "for i in shoe_price_tags[0:100]:\n",
    "    Price=i.text\n",
    "    price.append(Price)\n",
    "    \n",
    "shoe_price_tags=driver.find_elements(By.XPATH,'//div[@class=\"product-price\"]')\n",
    "for i in shoe_price_tags[0:100]:\n",
    "    Price=i.text\n",
    "    price.append(Price)\n"
   ]
  },
  {
   "cell_type": "code",
   "execution_count": 131,
   "id": "8a1507d2",
   "metadata": {},
   "outputs": [
    {
     "name": "stdout",
     "output_type": "stream",
     "text": [
      "100\n"
     ]
    }
   ],
   "source": [
    "print(len(price))"
   ]
  },
  {
   "cell_type": "code",
   "execution_count": 132,
   "id": "0a0b7fb6",
   "metadata": {},
   "outputs": [
    {
     "data": {
      "text/plain": [
       "['Rs. 659Rs. 1099(40% OFF)',\n",
       " 'Rs. 1889Rs. 2699(30% OFF)',\n",
       " 'Rs. 1495Rs. 6799(78% OFF)',\n",
       " 'Rs. 3071Rs. 4095(25% OFF)',\n",
       " 'Rs. 1199Rs. 3999(70% OFF)',\n",
       " 'Rs. 1924Rs. 3499( 45 % OFF)',\n",
       " 'Rs. 1649Rs. 5499(70% OFF)',\n",
       " 'Rs. 987Rs. 2599(62% OFF)',\n",
       " 'Rs. 2759Rs. 4599(40% OFF)',\n",
       " 'Rs. 4999',\n",
       " 'Rs. 809Rs. 4495(82% OFF)',\n",
       " 'Rs. 2579Rs. 5999(57% OFF)',\n",
       " 'Rs. 724Rs. 2499(71% OFF)',\n",
       " 'Rs. 1253Rs. 5699(78% OFF)',\n",
       " 'Rs. 1439Rs. 4799(70% OFF)',\n",
       " 'Rs. 2749Rs. 4999(45% OFF)',\n",
       " 'Rs. 866Rs. 4330(80% OFF)',\n",
       " 'Rs. 1249Rs. 1799(Rs. 550 OFF)',\n",
       " 'Rs. 2879Rs. 3599(20% OFF)',\n",
       " 'Rs. 1759Rs. 3999(56% OFF)',\n",
       " 'Rs. 579Rs. 1999(71% OFF)',\n",
       " 'Rs. 5524Rs. 6499(15% OFF)',\n",
       " 'Rs. 1297Rs. 5899(78% OFF)',\n",
       " 'Rs. 1619Rs. 3599(55% OFF)',\n",
       " 'Rs. 789Rs. 2819(72% OFF)',\n",
       " 'Rs. 4799Rs. 5999(20% OFF)',\n",
       " 'Rs. 1169Rs. 4499(74% OFF)',\n",
       " 'Rs. 699Rs. 2799(75% OFF)',\n",
       " 'Rs. 4756Rs. 6795(30% OFF)',\n",
       " 'Rs. 1223Rs. 3495(65% OFF)',\n",
       " 'Rs. 759Rs. 3995(81% OFF)',\n",
       " 'Rs. 1199Rs. 2999(60% OFF)',\n",
       " 'Rs. 799Rs. 3995(80% OFF)',\n",
       " 'Rs. 2785',\n",
       " 'Rs. 748Rs. 2495(70% OFF)',\n",
       " 'Rs. 3746Rs. 4995(25% OFF)',\n",
       " 'Rs. 4399Rs. 5499(20% OFF)',\n",
       " 'Rs. 1024Rs. 2499(59% OFF)',\n",
       " 'Rs. 1637Rs. 1799(9% OFF)',\n",
       " 'Rs. 1949Rs. 2999(35% OFF)',\n",
       " 'Rs. 1644Rs. 4699(65% OFF)',\n",
       " 'Rs. 898Rs. 4490(80% OFF)',\n",
       " 'Rs. 749Rs. 3745(80% OFF)',\n",
       " 'Rs. 4999',\n",
       " 'Rs. 619Rs. 999(38% OFF)',\n",
       " 'Rs. 749Rs. 1049(Rs. 300 OFF)',\n",
       " 'Rs. 2799Rs. 3799(Rs. 1000 OFF)',\n",
       " 'Rs. 3009Rs. 4299(30% OFF)',\n",
       " 'Rs. 4899Rs. 6999(30% OFF)',\n",
       " 'Rs. 1199Rs. 5999(80% OFF)',\n",
       " 'Rs. 659Rs. 1099(40% OFF)',\n",
       " 'Rs. 1889Rs. 2699(30% OFF)',\n",
       " 'Rs. 1495Rs. 6799(78% OFF)',\n",
       " 'Rs. 3071Rs. 4095(25% OFF)',\n",
       " 'Rs. 1199Rs. 3999(70% OFF)',\n",
       " 'Rs. 1924Rs. 3499( 45 % OFF)',\n",
       " 'Rs. 1649Rs. 5499(70% OFF)',\n",
       " 'Rs. 987Rs. 2599(62% OFF)',\n",
       " 'Rs. 2759Rs. 4599(40% OFF)',\n",
       " 'Rs. 4999',\n",
       " 'Rs. 809Rs. 4495(82% OFF)',\n",
       " 'Rs. 2579Rs. 5999(57% OFF)',\n",
       " 'Rs. 724Rs. 2499(71% OFF)',\n",
       " 'Rs. 1253Rs. 5699(78% OFF)',\n",
       " 'Rs. 1439Rs. 4799(70% OFF)',\n",
       " 'Rs. 2749Rs. 4999(45% OFF)',\n",
       " 'Rs. 866Rs. 4330(80% OFF)',\n",
       " 'Rs. 1249Rs. 1799(Rs. 550 OFF)',\n",
       " 'Rs. 2879Rs. 3599(20% OFF)',\n",
       " 'Rs. 1759Rs. 3999(56% OFF)',\n",
       " 'Rs. 579Rs. 1999(71% OFF)',\n",
       " 'Rs. 5524Rs. 6499(15% OFF)',\n",
       " 'Rs. 1297Rs. 5899(78% OFF)',\n",
       " 'Rs. 1619Rs. 3599(55% OFF)',\n",
       " 'Rs. 789Rs. 2819(72% OFF)',\n",
       " 'Rs. 4799Rs. 5999(20% OFF)',\n",
       " 'Rs. 1169Rs. 4499(74% OFF)',\n",
       " 'Rs. 699Rs. 2799(75% OFF)',\n",
       " 'Rs. 4756Rs. 6795(30% OFF)',\n",
       " 'Rs. 1223Rs. 3495(65% OFF)',\n",
       " 'Rs. 759Rs. 3995(81% OFF)',\n",
       " 'Rs. 1199Rs. 2999(60% OFF)',\n",
       " 'Rs. 799Rs. 3995(80% OFF)',\n",
       " 'Rs. 2785',\n",
       " 'Rs. 748Rs. 2495(70% OFF)',\n",
       " 'Rs. 3746Rs. 4995(25% OFF)',\n",
       " 'Rs. 4399Rs. 5499(20% OFF)',\n",
       " 'Rs. 1024Rs. 2499(59% OFF)',\n",
       " 'Rs. 1637Rs. 1799(9% OFF)',\n",
       " 'Rs. 1949Rs. 2999(35% OFF)',\n",
       " 'Rs. 1644Rs. 4699(65% OFF)',\n",
       " 'Rs. 898Rs. 4490(80% OFF)',\n",
       " 'Rs. 749Rs. 3745(80% OFF)',\n",
       " 'Rs. 4999',\n",
       " 'Rs. 619Rs. 999(38% OFF)',\n",
       " 'Rs. 749Rs. 1049(Rs. 300 OFF)',\n",
       " 'Rs. 2799Rs. 3799(Rs. 1000 OFF)',\n",
       " 'Rs. 3009Rs. 4299(30% OFF)',\n",
       " 'Rs. 4899Rs. 6999(30% OFF)',\n",
       " 'Rs. 1199Rs. 5999(80% OFF)']"
      ]
     },
     "execution_count": 132,
     "metadata": {},
     "output_type": "execute_result"
    }
   ],
   "source": [
    "price"
   ]
  },
  {
   "cell_type": "code",
   "execution_count": 133,
   "id": "3f24f366",
   "metadata": {},
   "outputs": [],
   "source": [
    "\n",
    "df=pd.DataFrame({'Brand':brand,'Short_Shoe_description':Short_Shoe_description,'price':price})"
   ]
  },
  {
   "cell_type": "code",
   "execution_count": 134,
   "id": "bc3d6817",
   "metadata": {},
   "outputs": [
    {
     "data": {
      "text/html": [
       "<div>\n",
       "<style scoped>\n",
       "    .dataframe tbody tr th:only-of-type {\n",
       "        vertical-align: middle;\n",
       "    }\n",
       "\n",
       "    .dataframe tbody tr th {\n",
       "        vertical-align: top;\n",
       "    }\n",
       "\n",
       "    .dataframe thead th {\n",
       "        text-align: right;\n",
       "    }\n",
       "</style>\n",
       "<table border=\"1\" class=\"dataframe\">\n",
       "  <thead>\n",
       "    <tr style=\"text-align: right;\">\n",
       "      <th></th>\n",
       "      <th>Brand</th>\n",
       "      <th>Short_Shoe_description</th>\n",
       "      <th>price</th>\n",
       "    </tr>\n",
       "  </thead>\n",
       "  <tbody>\n",
       "    <tr>\n",
       "      <th>0</th>\n",
       "      <td>Fentacia</td>\n",
       "      <td>Women Walking Shoes</td>\n",
       "      <td>Rs. 659Rs. 1099(40% OFF)</td>\n",
       "    </tr>\n",
       "    <tr>\n",
       "      <th>1</th>\n",
       "      <td>Fentacia</td>\n",
       "      <td>Men Clinch-X M Running Shoes</td>\n",
       "      <td>Rs. 1889Rs. 2699(30% OFF)</td>\n",
       "    </tr>\n",
       "    <tr>\n",
       "      <th>2</th>\n",
       "      <td>Fentacia</td>\n",
       "      <td>Men Solid Leather Formal Derbys</td>\n",
       "      <td>Rs. 1495Rs. 6799(78% OFF)</td>\n",
       "    </tr>\n",
       "    <tr>\n",
       "      <th>3</th>\n",
       "      <td>Fentacia</td>\n",
       "      <td>Women COURT ROYALE Sneakers</td>\n",
       "      <td>Rs. 3071Rs. 4095(25% OFF)</td>\n",
       "    </tr>\n",
       "    <tr>\n",
       "      <th>4</th>\n",
       "      <td>Fentacia</td>\n",
       "      <td>Men Woven Design Running Shoes</td>\n",
       "      <td>Rs. 1199Rs. 3999(70% OFF)</td>\n",
       "    </tr>\n",
       "    <tr>\n",
       "      <th>...</th>\n",
       "      <td>...</td>\n",
       "      <td>...</td>\n",
       "      <td>...</td>\n",
       "    </tr>\n",
       "    <tr>\n",
       "      <th>95</th>\n",
       "      <td>Fentacia</td>\n",
       "      <td>Men Running Shoes</td>\n",
       "      <td>Rs. 749Rs. 1049(Rs. 300 OFF)</td>\n",
       "    </tr>\n",
       "    <tr>\n",
       "      <th>96</th>\n",
       "      <td>Fentacia</td>\n",
       "      <td>Men Patent Leather Fashion</td>\n",
       "      <td>Rs. 2799Rs. 3799(Rs. 1000 OFF)</td>\n",
       "    </tr>\n",
       "    <tr>\n",
       "      <th>97</th>\n",
       "      <td>Fentacia</td>\n",
       "      <td>Men Printed Slip-On Sneakers</td>\n",
       "      <td>Rs. 3009Rs. 4299(30% OFF)</td>\n",
       "    </tr>\n",
       "    <tr>\n",
       "      <th>98</th>\n",
       "      <td>Fentacia</td>\n",
       "      <td>Men Response Solar Run Shoes</td>\n",
       "      <td>Rs. 4899Rs. 6999(30% OFF)</td>\n",
       "    </tr>\n",
       "    <tr>\n",
       "      <th>99</th>\n",
       "      <td>Fentacia</td>\n",
       "      <td>Men Lightweight Flat Boots</td>\n",
       "      <td>Rs. 1199Rs. 5999(80% OFF)</td>\n",
       "    </tr>\n",
       "  </tbody>\n",
       "</table>\n",
       "<p>100 rows × 3 columns</p>\n",
       "</div>"
      ],
      "text/plain": [
       "       Brand           Short_Shoe_description                           price\n",
       "0   Fentacia              Women Walking Shoes        Rs. 659Rs. 1099(40% OFF)\n",
       "1   Fentacia     Men Clinch-X M Running Shoes       Rs. 1889Rs. 2699(30% OFF)\n",
       "2   Fentacia  Men Solid Leather Formal Derbys       Rs. 1495Rs. 6799(78% OFF)\n",
       "3   Fentacia      Women COURT ROYALE Sneakers       Rs. 3071Rs. 4095(25% OFF)\n",
       "4   Fentacia   Men Woven Design Running Shoes       Rs. 1199Rs. 3999(70% OFF)\n",
       "..       ...                              ...                             ...\n",
       "95  Fentacia                Men Running Shoes    Rs. 749Rs. 1049(Rs. 300 OFF)\n",
       "96  Fentacia       Men Patent Leather Fashion  Rs. 2799Rs. 3799(Rs. 1000 OFF)\n",
       "97  Fentacia     Men Printed Slip-On Sneakers       Rs. 3009Rs. 4299(30% OFF)\n",
       "98  Fentacia     Men Response Solar Run Shoes       Rs. 4899Rs. 6999(30% OFF)\n",
       "99  Fentacia       Men Lightweight Flat Boots       Rs. 1199Rs. 5999(80% OFF)\n",
       "\n",
       "[100 rows x 3 columns]"
      ]
     },
     "execution_count": 134,
     "metadata": {},
     "output_type": "execute_result"
    }
   ],
   "source": [
    "df"
   ]
  },
  {
   "cell_type": "markdown",
   "id": "73e68c06",
   "metadata": {},
   "source": [
    "# Q8: Go to webpage https://www.amazon.in/"
   ]
  },
  {
   "cell_type": "code",
   "execution_count": 135,
   "id": "1c8fcd0c",
   "metadata": {},
   "outputs": [],
   "source": [
    "driver.get('https://www.amazon.in/')"
   ]
  },
  {
   "cell_type": "code",
   "execution_count": 138,
   "id": "b073ed8f",
   "metadata": {},
   "outputs": [],
   "source": [
    "product=driver.find_element(By.XPATH,'/html/body/div[1]/header/div/div[1]/div[2]/div/form/div[2]/div[1]/input')\n",
    "product.send_keys('Laptop')"
   ]
  },
  {
   "cell_type": "code",
   "execution_count": 140,
   "id": "24ec5fc4",
   "metadata": {},
   "outputs": [],
   "source": [
    "search=driver.find_element(By.XPATH,'//div[@class=\"nav-search-submit nav-sprite\"]')\n",
    "search.click()"
   ]
  },
  {
   "cell_type": "code",
   "execution_count": 198,
   "id": "e1853f7a",
   "metadata": {},
   "outputs": [],
   "source": [
    "Title = []\n",
    "Rating = []\n",
    "Price = []"
   ]
  },
  {
   "cell_type": "code",
   "execution_count": 199,
   "id": "603632eb",
   "metadata": {},
   "outputs": [],
   "source": [
    "title_tags=driver.find_elements(By.XPATH,'//h2[@class=\"a-size-mini a-spacing-none a-color-base s-line-clamp-2\"]')\n",
    "for i in title_tags[0:10]:\n",
    "    title=i.text\n",
    "    Title.append(title)"
   ]
  },
  {
   "cell_type": "code",
   "execution_count": 200,
   "id": "2b3e47ab",
   "metadata": {},
   "outputs": [
    {
     "name": "stdout",
     "output_type": "stream",
     "text": [
      "10\n"
     ]
    }
   ],
   "source": [
    "print(len(Title))"
   ]
  },
  {
   "cell_type": "code",
   "execution_count": 208,
   "id": "eaa303f7",
   "metadata": {},
   "outputs": [
    {
     "data": {
      "text/plain": [
       "['Samsung Galaxy Book2 360 Intel 12th Gen i7 EvoTM 33.78cm (13.3\") AMOLED 2 in 1 Touch Screen Laptop (16 GB/512 GB SSD/Windows 11/MS Office/Backlit KB/Fingerprint Sensor/Graphite/1.16Kg), NP730QED-KA1IN',\n",
       " 'Samsung Galaxy Book2 Pro Intel 12th Gen i7 EvoTM 33.78cm (13.3\") AMOLED Thin & Light Laptop (16 GB/512 GB SSD/Windows 11/MS Office/Backlit KB/Fingerprint Sensor/Silver/0.87Kg), NP930XED-KB2IN',\n",
       " 'ASUS Zenbook 13 OLED, 13.3-inch (33.78 cms) FHD OLED, Intel EVO Core i7-1165G7 11th Gen, Thin and Light Laptop (16GB/1TB SSD/Iris Xe Graphics/Windows 11/Office 2021/Mist/1.14 kg), UX325EA-KG701WS',\n",
       " 'ASUS Vivobook 15, 15.6-inch (39.62 cms) FHD, Intel Core i7-1065G7 10th Gen, Thin and Light Laptop (16GB/512GB SSD/Iris Plus Graphics/Windows 11/Office 2021/Silver/1.8 kg), X515JA-EJ701WS',\n",
       " 'Lenovo IdeaPad Slim 5 Intel Core i7 12th Gen 15.6\" (39.62cm) FHD IPS Thin & Light Laptop (16GB/512GB SSD/Windows 11/Office 2021/Backlit/FPR/3months Game Pass/Storm Grey/1.85Kg), 82SF008WIN',\n",
       " 'Lenovo ThinkBook 15 Intel 11th Gen Core i7 15.6\"(39.62 cm)FHD Thin and Light Laptop (16GB/512GB SSD/Windows 11 Home/MS Office H&S 2021/Iris® Xe Graphics/Backlit/Mineral Grey/1.7 Kg) 20VE00W4IH',\n",
       " 'ASUS Zenbook 13 OLED, 13.3-inch (33.78 cms) FHD OLED, Intel EVO Core i7-1165G7 11th Gen, Thin and Light Laptop (16GB/512GB SSD/Iris Xe Graphics/Windows 11/Office 2021/Grey/1.14 kg), UX325EA-KG722WS',\n",
       " 'Hp Pavilion X360 11Th Gen Intel Core I7 14 Inches Fhd Multitouch 2In1 Laptop (16Gb Ram/512Gb Ssd/B&O/Windows 11 Home/Fpr/Backlit Kb/Intel Iris Xe Graphics/Pen/Alexa/Ms Office/Silver/1.52Kg)14-Dy1047Tu',\n",
       " 'Lenovo Yoga 7i 11th Gen Intel Core i7-1165G7 14 inches FHD IPS 2-in-1 Touchscreen Business Laptop (16GB/512GB SSD/Windows 10/MS Office/Digital Pen/Fingerprint Reader/Slate Grey/1.43Kg), 82BH004HIN',\n",
       " '(Renewed) HP Elitebook Touchscreen 360 Degree Rotating Tablet Laptop 1030G3 Intel Core i7 - 7600u Processor , 16 GB Ram & 256 GB SSD, 13.3 Inches Notebook Computer']"
      ]
     },
     "execution_count": 208,
     "metadata": {},
     "output_type": "execute_result"
    }
   ],
   "source": [
    "Title"
   ]
  },
  {
   "cell_type": "code",
   "execution_count": 201,
   "id": "5104a3b5",
   "metadata": {},
   "outputs": [],
   "source": [
    "rating_tags=driver.find_elements(By.XPATH,'//span[@class=\"a-size-base s-underline-text\"]')\n",
    "for i in rating_tags[0:10]:\n",
    "    rating=i.text\n",
    "    Rating.append(rating)"
   ]
  },
  {
   "cell_type": "code",
   "execution_count": 202,
   "id": "47e92dc3",
   "metadata": {},
   "outputs": [
    {
     "name": "stdout",
     "output_type": "stream",
     "text": [
      "10\n"
     ]
    }
   ],
   "source": [
    "print(len(Rating))"
   ]
  },
  {
   "cell_type": "code",
   "execution_count": 203,
   "id": "9b5f02cd",
   "metadata": {},
   "outputs": [
    {
     "data": {
      "text/plain": [
       "['29', '18', '3', '56', '12', '62', '1', '26', '89', '35']"
      ]
     },
     "execution_count": 203,
     "metadata": {},
     "output_type": "execute_result"
    }
   ],
   "source": [
    "Rating"
   ]
  },
  {
   "cell_type": "code",
   "execution_count": 205,
   "id": "348e5ffd",
   "metadata": {},
   "outputs": [],
   "source": [
    "price_tags=driver.find_elements(By.XPATH,'//span[@class=\"a-price-whole\"]')\n",
    "for i in price_tags[0:10]:\n",
    "    price=i.text\n",
    "    Price.append(price)"
   ]
  },
  {
   "cell_type": "code",
   "execution_count": 206,
   "id": "1d9bc221",
   "metadata": {},
   "outputs": [
    {
     "name": "stdout",
     "output_type": "stream",
     "text": [
      "10\n"
     ]
    }
   ],
   "source": [
    "print(len(Price))"
   ]
  },
  {
   "cell_type": "code",
   "execution_count": 207,
   "id": "03634ae3",
   "metadata": {},
   "outputs": [
    {
     "data": {
      "text/plain": [
       "['97,027',\n",
       " '1,04,320',\n",
       " '74,990',\n",
       " '63,990',\n",
       " '80,000',\n",
       " '77,990',\n",
       " '1,16,990',\n",
       " '82,490',\n",
       " '1,12,950',\n",
       " '39,990']"
      ]
     },
     "execution_count": 207,
     "metadata": {},
     "output_type": "execute_result"
    }
   ],
   "source": [
    "Price"
   ]
  },
  {
   "cell_type": "markdown",
   "id": "f0deca53",
   "metadata": {},
   "source": [
    "# Q10: Write a python program to scrape the salary data for Data Scientist designation.\n",
    "You have to scrape Company name, Number of salaries, Average salary, Minsalary, Max Salary. \n"
   ]
  },
  {
   "cell_type": "code",
   "execution_count": 661,
   "id": "38a73981",
   "metadata": {},
   "outputs": [],
   "source": [
    "driver=webdriver.Chrome(r\"C:\\Users\\HP\\Downloads\\chromedriver_win32\\chromedriver.exe\")"
   ]
  },
  {
   "cell_type": "code",
   "execution_count": 662,
   "id": "11957077",
   "metadata": {},
   "outputs": [],
   "source": [
    "driver.get('https://www.ambitionbox.com/')"
   ]
  },
  {
   "cell_type": "code",
   "execution_count": 667,
   "id": "0e861cfd",
   "metadata": {},
   "outputs": [],
   "source": [
    "designation=driver.find_element(By.XPATH,'/html/body/div/div/div/main/section[1]/div[2]/div[1]/span/input')\n",
    "designation.send_keys('Data Scientist')"
   ]
  },
  {
   "cell_type": "code",
   "execution_count": 690,
   "id": "9cee464e",
   "metadata": {},
   "outputs": [],
   "source": [
    "company_name = []"
   ]
  },
  {
   "cell_type": "code",
   "execution_count": 691,
   "id": "7562a210",
   "metadata": {},
   "outputs": [],
   "source": [
    "# scraping company name from the given page\n",
    "company_tags=driver.find_elements(By.XPATH,'//*[@id=\"sal-table\"]/div[2]/div[1]/div[1]/div/div/a')\n",
    "for i in company_tags[0:10]:\n",
    "    company=i.text\n",
    "    company_name.append(company)\n",
    "    \n",
    "company_tags=driver.find_elements(By.XPATH,'/html/body/div/div/div/main/section[1]/div[2]/div[3]/div[2]/div[2]/div[1]/div/div/a')\n",
    "for i in company_tags[0:10]:\n",
    "    company=i.text\n",
    "    company_name.append(company)\n",
    "    \n",
    "company_tags=driver.find_elements(By.XPATH,'/html/body/div/div/div/main/section[1]/div[2]/div[3]/div[2]/div[2]/div[1]/div/div/a')\n",
    "for i in company_tags[0:10]:\n",
    "    company=i.text\n",
    "    company_name.append(company)\n",
    "\n",
    "company_tags=driver.find_elements(By.XPATH,'//*[@id=\"sal-table\"]/div[2]/div[3]/div[1]/div/div/a')\n",
    "for i in company_tags[0:10]:\n",
    "    company=i.text\n",
    "    company_name.append(company)\n",
    "    \n",
    "company_tags=driver.find_elements(By.XPATH,'//*[@id=\"sal-table\"]/div[2]/div[4]/div[1]/div/div/a')\n",
    "for i in company_tags[0:10]:\n",
    "    company=i.text\n",
    "    company_name.append(company)\n",
    "    \n",
    "company_tags=driver.find_elements(By.XPATH,'//*[@id=\"sal-table\"]/div[2]/div[5]/div[1]/div/div/a')\n",
    "for i in company_tags[0:10]:\n",
    "    company=i.text\n",
    "    company_name.append(company)\n",
    "    \n",
    "company_tags=driver.find_elements(By.XPATH,'//*[@id=\"sal-table\"]/div[2]/div[6]/div[1]/div/div/a')\n",
    "for i in company_tags[0:10]:\n",
    "    company=i.text\n",
    "    company_name.append(company)\n",
    "    \n",
    "company_tags=driver.find_elements(By.XPATH,'//*[@id=\"sal-table\"]/div[2]/div[7]/div[1]/div/div/a')\n",
    "for i in company_tags[0:10]:\n",
    "    company=i.text\n",
    "    company_name.append(company)\n",
    "\n",
    "company_tags=driver.find_elements(By.XPATH,'//*[@id=\"sal-table\"]/div[2]/div[8]/div[1]/div/div/a')\n",
    "for i in company_tags[0:10]:\n",
    "    company=i.text\n",
    "    company_name.append(company)\n",
    "    \n",
    "company_tags=driver.find_elements(By.XPATH,'//*[@id=\"sal-table\"]/div[2]/div[9]/div[1]/div/div/a')\n",
    "for i in company_tags[0:10]:\n",
    "    company=i.text\n",
    "    company_name.append(company)"
   ]
  },
  {
   "cell_type": "code",
   "execution_count": 692,
   "id": "88ed0b0c",
   "metadata": {},
   "outputs": [
    {
     "data": {
      "text/plain": [
       "['Walmart\\nData Scientist Salary',\n",
       " 'Ab Inbev\\nData Scientist Salary',\n",
       " 'Ab Inbev\\nData Scientist Salary',\n",
       " 'Optum\\nData Scientist Salary',\n",
       " 'ZS\\nData Scientist Salary',\n",
       " 'Fractal Analytics\\nData Scientist Salary',\n",
       " 'Sigmoid Analytics\\nData Scientist Salary',\n",
       " 'Tiger Analytics\\nData Scientist Salary',\n",
       " 'Legato Health Technologies\\nData Scientist Salary',\n",
       " 'HSBC\\nData Scientist Salary']"
      ]
     },
     "execution_count": 692,
     "metadata": {},
     "output_type": "execute_result"
    }
   ],
   "source": [
    "company_name"
   ]
  },
  {
   "cell_type": "code",
   "execution_count": 721,
   "id": "b9259639",
   "metadata": {},
   "outputs": [],
   "source": [
    "Total_salary_record = []"
   ]
  },
  {
   "cell_type": "code",
   "execution_count": 722,
   "id": "92dd6941",
   "metadata": {},
   "outputs": [],
   "source": [
    "# scraping total_salary_record from the given page\n",
    "total_salary_tags=driver.find_elements(By.XPATH,'//*[@id=\"sal-table\"]/div[2]/div[1]/div[1]/div/div/div/span')\n",
    "for i in total_salary_tags[0:10]:\n",
    "    total_salary=i.text\n",
    "    Total_salary_record.append(total_salary)\n",
    "    \n",
    "total_salary_tags=driver.find_elements(By.XPATH,'//*[@id=\"sal-table\"]/div[2]/div[2]/div[1]/div/div/div/span')\n",
    "for i in total_salary_tags[0:10]:\n",
    "    total_salary=i.text\n",
    "    Total_salary_record.append(total_salary)\n",
    "    \n",
    "total_salary_tags=driver.find_elements(By.XPATH,'//*[@id=\"sal-table\"]/div[2]/div[3]/div[1]/div/div/div/span')\n",
    "for i in total_salary_tags[0:10]:\n",
    "    total_salary=i.text\n",
    "    Total_salary_record.append(total_salary)\n",
    "    \n",
    "total_salary_tags=driver.find_elements(By.XPATH,'//*[@id=\"sal-table\"]/div[2]/div[4]/div[1]/div/div/div/span')\n",
    "for i in total_salary_tags[0:10]:\n",
    "    total_salary=i.text\n",
    "    Total_salary_record.append(total_salary)\n",
    "    \n",
    "total_salary_tags=driver.find_elements(By.XPATH,'//*[@id=\"sal-table\"]/div[2]/div[5]/div[1]/div/div/div/span')\n",
    "for i in total_salary_tags[0:10]:\n",
    "    total_salary=i.text\n",
    "    Total_salary_record.append(total_salary)\n",
    "    \n",
    "    \n",
    "total_salary_tags=driver.find_elements(By.XPATH,'//*[@id=\"sal-table\"]/div[2]/div[6]/div[1]/div/div/div/span')\n",
    "for i in total_salary_tags[0:10]:\n",
    "    total_salary=i.text\n",
    "    Total_salary_record.append(total_salary)\n",
    "    \n",
    "total_salary_tags=driver.find_elements(By.XPATH,'//*[@id=\"sal-table\"]/div[2]/div[7]/div[1]/div/div/div/span')\n",
    "for i in total_salary_tags[0:10]:\n",
    "    total_salary=i.text\n",
    "    Total_salary_record.append(total_salary)\n",
    "    \n",
    "total_salary_tags=driver.find_elements(By.XPATH,'//*[@id=\"sal-table\"]/div[2]/div[8]/div[1]/div/div/div/span')\n",
    "for i in total_salary_tags[0:10]:\n",
    "    total_salary=i.text\n",
    "    Total_salary_record.append(total_salary) \n",
    "    \n",
    "total_salary_tags=driver.find_elements(By.XPATH,'//*[@id=\"sal-table\"]/div[2]/div[9]/div[1]/div/div/div/span')\n",
    "for i in total_salary_tags[0:10]:\n",
    "    total_salary=i.text\n",
    "    Total_salary_record.append(total_salary)\n",
    "    \n",
    "\n",
    "total_salary_tags=driver.find_elements(By.XPATH,'//*[@id=\"sal-table\"]/div[2]/div[10]/div[1]/div/div/div/span')\n",
    "for i in total_salary_tags[0:10]:\n",
    "    total_salary=i.text\n",
    "    Total_salary_record.append(total_salary)\n",
    "    "
   ]
  },
  {
   "cell_type": "code",
   "execution_count": 724,
   "id": "61dc022b",
   "metadata": {},
   "outputs": [
    {
     "name": "stdout",
     "output_type": "stream",
     "text": [
      "10\n"
     ]
    }
   ],
   "source": [
    "print(len(Total_salary_record))"
   ]
  },
  {
   "cell_type": "code",
   "execution_count": 733,
   "id": "cf6adbbb",
   "metadata": {},
   "outputs": [],
   "source": [
    "Average_salary = []"
   ]
  },
  {
   "cell_type": "code",
   "execution_count": 734,
   "id": "7128af37",
   "metadata": {},
   "outputs": [],
   "source": [
    "average_salary_tags=driver.find_elements(By.XPATH,'//*[@id=\"sal-table\"]/div[2]/div[1]/div[2]/div/div[1]/div/p')\n",
    "for i in average_salary_tags[0:10]:\n",
    "    average_salary=i.text\n",
    "    Average_salary.append(average_salary)\n",
    "    \n",
    "    \n",
    "average_salary_tags=driver.find_elements(By.XPATH,'//*[@id=\"sal-table\"]/div[2]/div[2]/div[2]/div/div[1]/div/p')\n",
    "for i in average_salary_tags[0:10]:\n",
    "    average_salary=i.text\n",
    "    Average_salary.append(average_salary)\n",
    "    \n",
    "\n",
    "average_salary_tags=driver.find_elements(By.XPATH,'//*[@id=\"sal-table\"]/div[2]/div[3]/div[2]/div/div[1]/div/p')\n",
    "for i in average_salary_tags[0:10]:\n",
    "    average_salary=i.text\n",
    "    Average_salary.append(average_salary)\n",
    "    \n",
    "average_salary_tags=driver.find_elements(By.XPATH,'//*[@id=\"sal-table\"]/div[2]/div[4]/div[2]/div/div[1]/div/p')\n",
    "for i in average_salary_tags[0:10]:\n",
    "    average_salary=i.text\n",
    "    Average_salary.append(average_salary)\n",
    "\n",
    "average_salary_tags=driver.find_elements(By.XPATH,'//*[@id=\"sal-table\"]/div[2]/div[5]/div[2]/div/div[1]/div/p')\n",
    "for i in average_salary_tags[0:10]:\n",
    "    average_salary=i.text\n",
    "    Average_salary.append(average_salary)\n",
    "    \n",
    "average_salary_tags=driver.find_elements(By.XPATH,'//*[@id=\"sal-table\"]/div[2]/div[6]/div[2]/div/div[1]/div/p')\n",
    "for i in average_salary_tags[0:10]:\n",
    "    average_salary=i.text\n",
    "    Average_salary.append(average_salary)\n",
    "\n",
    "average_salary_tags=driver.find_elements(By.XPATH,'//*[@id=\"sal-table\"]/div[2]/div[7]/div[2]/div/div[1]/div/p')\n",
    "for i in average_salary_tags[0:10]:\n",
    "    average_salary=i.text\n",
    "    Average_salary.append(average_salary)\n",
    "    \n",
    "average_salary_tags=driver.find_elements(By.XPATH,'//*[@id=\"sal-table\"]/div[2]/div[8]/div[2]/div/div[1]/div/p')\n",
    "for i in average_salary_tags[0:10]:\n",
    "    average_salary=i.text\n",
    "    Average_salary.append(average_salary)\n",
    "    \n",
    "average_salary_tags=driver.find_elements(By.XPATH,'//*[@id=\"sal-table\"]/div[2]/div[9]/div[2]/div/div[1]/div/p')\n",
    "for i in average_salary_tags[0:10]:\n",
    "    average_salary=i.text\n",
    "    Average_salary.append(average_salary)\n",
    "    \n",
    "average_salary_tags=driver.find_elements(By.XPATH,'//*[@id=\"sal-table\"]/div[2]/div[10]/div[2]/div/div[1]/div/p')\n",
    "for i in average_salary_tags[0:10]:\n",
    "    average_salary=i.text\n",
    "    Average_salary.append(average_salary)\n",
    "    \n",
    "    "
   ]
  },
  {
   "cell_type": "code",
   "execution_count": 735,
   "id": "9a876344",
   "metadata": {},
   "outputs": [
    {
     "data": {
      "text/plain": [
       "['₹ 32.2L',\n",
       " '₹ 19.8L',\n",
       " '₹ 16.4L',\n",
       " '₹ 15.9L',\n",
       " '₹ 15.5L',\n",
       " '₹ 14.7L',\n",
       " '₹ 14.6L',\n",
       " '₹ 14.5L',\n",
       " '₹ 14.0L',\n",
       " '₹ 13.9L']"
      ]
     },
     "execution_count": 735,
     "metadata": {},
     "output_type": "execute_result"
    }
   ],
   "source": [
    "Average_salary"
   ]
  },
  {
   "cell_type": "code",
   "execution_count": 747,
   "id": "b42028b4",
   "metadata": {},
   "outputs": [],
   "source": [
    " Minimum_salary = []"
   ]
  },
  {
   "cell_type": "code",
   "execution_count": 748,
   "id": "595e95a4",
   "metadata": {},
   "outputs": [],
   "source": [
    "minimum_salary_tags=driver.find_elements(By.XPATH,'//*[@id=\"sal-table\"]/div[2]/div[1]/div[2]/div/div[2]/div[1]')\n",
    "for i in minimum_salary_tags[0:10]:\n",
    "    minimum_salary=i.text\n",
    "    Minimum_salary.append(minimum_salary)\n",
    "    \n",
    "minimum_salary_tags=driver.find_elements(By.XPATH,'//*[@id=\"sal-table\"]/div[2]/div[2]/div[2]/div/div[2]/div[1]')\n",
    "for i in minimum_salary_tags[0:10]:\n",
    "    minimum_salary=i.text\n",
    "    Minimum_salary.append(minimum_salary)\n",
    "    \n",
    "minimum_salary_tags=driver.find_elements(By.XPATH,'//*[@id=\"sal-table\"]/div[2]/div[3]/div[2]/div/div[2]/div[1]')\n",
    "for i in minimum_salary_tags[0:10]:\n",
    "    minimum_salary=i.text\n",
    "    Minimum_salary.append(minimum_salary)\n",
    "    \n",
    "minimum_salary_tags=driver.find_elements(By.XPATH,'//*[@id=\"sal-table\"]/div[2]/div[4]/div[2]/div/div[2]/div[1]')\n",
    "for i in minimum_salary_tags[0:10]:\n",
    "    minimum_salary=i.text\n",
    "    Minimum_salary.append(minimum_salary)\n",
    "    \n",
    "minimum_salary_tags=driver.find_elements(By.XPATH,'//*[@id=\"sal-table\"]/div[2]/div[5]/div[2]/div/div[2]/div[1]')\n",
    "for i in minimum_salary_tags[0:10]:\n",
    "    minimum_salary=i.text\n",
    "    Minimum_salary.append(minimum_salary)\n",
    "    \n",
    "minimum_salary_tags=driver.find_elements(By.XPATH,'//*[@id=\"sal-table\"]/div[2]/div[6]/div[2]/div/div[2]/div[1]')\n",
    "for i in minimum_salary_tags[0:10]:\n",
    "    minimum_salary=i.text\n",
    "    Minimum_salary.append(minimum_salary)\n",
    "    \n",
    "minimum_salary_tags=driver.find_elements(By.XPATH,'//*[@id=\"sal-table\"]/div[2]/div[7]/div[2]/div/div[2]/div[1]')\n",
    "for i in minimum_salary_tags[0:10]:\n",
    "    minimum_salary=i.text\n",
    "    Minimum_salary.append(minimum_salary)\n",
    "    \n",
    "minimum_salary_tags=driver.find_elements(By.XPATH,'//*[@id=\"sal-table\"]/div[2]/div[8]/div[2]/div/div[2]/div[1]')\n",
    "for i in minimum_salary_tags[0:10]:\n",
    "    minimum_salary=i.text\n",
    "    Minimum_salary.append(minimum_salary)\n",
    "    \n",
    "minimum_salary_tags=driver.find_elements(By.XPATH,'//*[@id=\"sal-table\"]/div[2]/div[9]/div[2]/div/div[2]/div[1]')\n",
    "for i in minimum_salary_tags[0:10]:\n",
    "    minimum_salary=i.text\n",
    "    Minimum_salary.append(minimum_salary)\n",
    "    \n",
    "minimum_salary_tags=driver.find_elements(By.XPATH,'//*[@id=\"sal-table\"]/div[2]/div[10]/div[2]/div/div[2]/div[1]')\n",
    "for i in minimum_salary_tags[0:10]:\n",
    "    minimum_salary=i.text\n",
    "    Minimum_salary.append(minimum_salary)\n",
    "    "
   ]
  },
  {
   "cell_type": "code",
   "execution_count": 749,
   "id": "d0d552f6",
   "metadata": {},
   "outputs": [
    {
     "data": {
      "text/plain": [
       "['₹ 25.0L',\n",
       " '₹ 15.0L',\n",
       " '₹ 11.0L',\n",
       " '₹ 11.0L',\n",
       " '₹ 9.0L',\n",
       " '₹ 12.7L',\n",
       " '₹ 9.0L',\n",
       " '₹ 11.0L',\n",
       " '₹ 12.0L',\n",
       " '₹ 8.8L']"
      ]
     },
     "execution_count": 749,
     "metadata": {},
     "output_type": "execute_result"
    }
   ],
   "source": [
    "Minimum_salary"
   ]
  },
  {
   "cell_type": "code",
   "execution_count": 754,
   "id": "2255338d",
   "metadata": {},
   "outputs": [],
   "source": [
    "Maximum_salary = []"
   ]
  },
  {
   "cell_type": "code",
   "execution_count": 755,
   "id": "255f57a5",
   "metadata": {},
   "outputs": [],
   "source": [
    "maximum_salary_tags=driver.find_elements(By.XPATH,'//*[@id=\"sal-table\"]/div[2]/div[1]/div[2]/div/div[2]/div[2]')\n",
    "for i in maximum_salary_tags[0:10]:\n",
    "    maximum_salary=i.text\n",
    "    Maximum_salary.append(maximum_salary)\n",
    "    \n",
    "maximum_salary_tags=driver.find_elements(By.XPATH,'//*[@id=\"sal-table\"]/div[2]/div[2]/div[2]/div/div[2]/div[2]')\n",
    "for i in maximum_salary_tags[0:10]:\n",
    "    maximum_salary=i.text\n",
    "    Maximum_salary.append(maximum_salary)\n",
    "    \n",
    "maximum_salary_tags=driver.find_elements(By.XPATH,'//*[@id=\"sal-table\"]/div[2]/div[3]/div[2]/div/div[2]/div[2]')\n",
    "for i in maximum_salary_tags[0:10]:\n",
    "    maximum_salary=i.text\n",
    "    Maximum_salary.append(maximum_salary)\n",
    "    \n",
    "maximum_salary_tags=driver.find_elements(By.XPATH,'//*[@id=\"sal-table\"]/div[2]/div[4]/div[2]/div/div[2]/div[2]')\n",
    "for i in maximum_salary_tags[0:10]:\n",
    "    maximum_salary=i.text\n",
    "    Maximum_salary.append(maximum_salary)\n",
    "    \n",
    "maximum_salary_tags=driver.find_elements(By.XPATH,'//*[@id=\"sal-table\"]/div[2]/div[5]/div[2]/div/div[2]/div[2]')\n",
    "for i in maximum_salary_tags[0:10]:\n",
    "    maximum_salary=i.text\n",
    "    Maximum_salary.append(maximum_salary)\n",
    "    \n",
    "maximum_salary_tags=driver.find_elements(By.XPATH,'//*[@id=\"sal-table\"]/div[2]/div[6]/div[2]/div/div[2]/div[2]')\n",
    "for i in maximum_salary_tags[0:10]:\n",
    "    maximum_salary=i.text\n",
    "    Maximum_salary.append(maximum_salary)\n",
    "    \n",
    "maximum_salary_tags=driver.find_elements(By.XPATH,'//*[@id=\"sal-table\"]/div[2]/div[7]/div[2]/div/div[2]/div[2]')\n",
    "for i in maximum_salary_tags[0:10]:\n",
    "    maximum_salary=i.text\n",
    "    Maximum_salary.append(maximum_salary)\n",
    "    \n",
    "maximum_salary_tags=driver.find_elements(By.XPATH,'//*[@id=\"sal-table\"]/div[2]/div[8]/div[2]/div/div[2]/div[2]')\n",
    "for i in maximum_salary_tags[0:10]:\n",
    "    maximum_salary=i.text\n",
    "    Maximum_salary.append(maximum_salary)\n",
    "    \n",
    "maximum_salary_tags=driver.find_elements(By.XPATH,'//*[@id=\"sal-table\"]/div[2]/div[9]/div[2]/div/div[2]/div[2]')\n",
    "for i in maximum_salary_tags[0:10]:\n",
    "    maximum_salary=i.text\n",
    "    Maximum_salary.append(maximum_salary)\n",
    "    \n",
    "minimum_salary_tags=driver.find_elements(By.XPATH,'//*[@id=\"sal-table\"]/div[2]/div[10]/div[2]/div/div[2]/div[2]')\n",
    "for i in minimum_salary_tags[0:10]:\n",
    "    minimum_salary=i.text\n",
    "    Maximum_salary.append(maximum_salary)"
   ]
  },
  {
   "cell_type": "code",
   "execution_count": 756,
   "id": "054a48f6",
   "metadata": {},
   "outputs": [
    {
     "data": {
      "text/plain": [
       "['₹ 45.0L',\n",
       " '₹ 26.0L',\n",
       " '₹ 22.6L',\n",
       " '₹ 22.0L',\n",
       " '₹ 23.0L',\n",
       " '₹ 19.7L',\n",
       " '₹ 20.0L',\n",
       " '₹ 20.0L',\n",
       " '₹ 18.0L',\n",
       " '₹ 18.0L']"
      ]
     },
     "execution_count": 756,
     "metadata": {},
     "output_type": "execute_result"
    }
   ],
   "source": [
    "Maximum_salary"
   ]
  },
  {
   "cell_type": "code",
   "execution_count": 776,
   "id": "748abfcd",
   "metadata": {},
   "outputs": [],
   "source": [
    "Experience_required=[]"
   ]
  },
  {
   "cell_type": "code",
   "execution_count": 777,
   "id": "1a5f69a7",
   "metadata": {},
   "outputs": [],
   "source": [
    "experience_required_tags=driver.find_elements(By.XPATH,'/html/body/div/div/div/main/section[1]/div[2]/div[3]/div[2]/div[1]/div[1]/div/div/div')\n",
    "for i in experience_required_tags[0:10]:\n",
    "    experience_required=i.text\n",
    "    Experience_required.append(experience_required)\n",
    "    \n",
    "experience_required_tags=driver.find_elements(By.XPATH,'//*[@id=\"sal-table\"]/div[2]/div[2]/div[1]/div/div/div')\n",
    "for i in experience_required_tags[0:10]:\n",
    "    experience_required=i.text\n",
    "    Experience_required.append(experience_required)\n",
    "    \n",
    "experience_required_tags=driver.find_elements(By.XPATH,'//*[@id=\"sal-table\"]/div[2]/div[3]/div[1]/div/div/div')\n",
    "for i in experience_required_tags[0:10]:\n",
    "    experience_required=i.text\n",
    "    Experience_required.append(experience_required)\n",
    "    \n",
    "experience_required_tags=driver.find_elements(By.XPATH,'//*[@id=\"sal-table\"]/div[2]/div[4]/div[1]/div/div/div')\n",
    "for i in experience_required_tags[0:10]:\n",
    "    experience_required=i.text\n",
    "    Experience_required.append(experience_required)\n",
    "    \n",
    "experience_required_tags=driver.find_elements(By.XPATH,'//*[@id=\"sal-table\"]/div[2]/div[5]/div[1]/div/div/div')\n",
    "for i in experience_required_tags[0:10]:\n",
    "    experience_required=i.text\n",
    "    Experience_required.append(experience_required)\n",
    "    \n",
    "experience_required_tags=driver.find_elements(By.XPATH,'//*[@id=\"sal-table\"]/div[2]/div[6]/div[1]/div/div/div')\n",
    "for i in experience_required_tags[0:10]:\n",
    "    experience_required=i.text\n",
    "    Experience_required.append(experience_required)\n",
    "    \n",
    "experience_required_tags=driver.find_elements(By.XPATH,'//*[@id=\"sal-table\"]/div[2]/div[7]/div[1]/div/div/div')\n",
    "for i in experience_required_tags[0:10]:\n",
    "    experience_required=i.text\n",
    "    Experience_required.append(experience_required)\n",
    "    \n",
    "experience_required_tags=driver.find_elements(By.XPATH,'//*[@id=\"sal-table\"]/div[2]/div[8]/div[1]/div/div/div')\n",
    "for i in experience_required_tags[0:10]:\n",
    "    experience_required=i.text\n",
    "    Experience_required.append(experience_required)\n",
    "    \n",
    "experience_required_tags=driver.find_elements(By.XPATH,'//*[@id=\"sal-table\"]/div[2]/div[9]/div[1]/div/div/div')\n",
    "for i in experience_required_tags[0:10]:\n",
    "    experience_required=i.text\n",
    "    Experience_required.append(experience_required)\n",
    "    \n",
    "experience_required_tags=driver.find_elements(By.XPATH,'//*[@id=\"sal-table\"]/div[2]/div[10]/div[1]/div/div/div')\n",
    "for i in experience_required_tags[0:10]:\n",
    "    experience_required=i.text\n",
    "    Experience_required.append(experience_required)\n",
    "    \n",
    "    \n"
   ]
  },
  {
   "cell_type": "code",
   "execution_count": 778,
   "id": "cb6c9ddd",
   "metadata": {},
   "outputs": [
    {
     "data": {
      "text/plain": [
       "['3-4 yrs experience (based on 24 salaries)',\n",
       " '2-4 yrs experience (based on 59 salaries)',\n",
       " '2-4 yrs experience (based on 49 salaries)',\n",
       " '1-2 yrs experience (based on 35 salaries)',\n",
       " '2-4 yrs experience (based on 118 salaries)',\n",
       " '1 yr experience (based on 10 salaries)',\n",
       " '2-4 yrs experience (based on 70 salaries)',\n",
       " '4 yrs experience (based on 11 salaries)',\n",
       " '4 yrs experience (based on 10 salaries)',\n",
       " '3 yrs experience (based on 14 salaries)']"
      ]
     },
     "execution_count": 778,
     "metadata": {},
     "output_type": "execute_result"
    }
   ],
   "source": [
    "Experience_required"
   ]
  },
  {
   "cell_type": "code",
   "execution_count": 779,
   "id": "7face60a",
   "metadata": {},
   "outputs": [
    {
     "name": "stdout",
     "output_type": "stream",
     "text": [
      "10 10 10 10 10\n"
     ]
    }
   ],
   "source": [
    "print(len(Total_salary_record),len(Average_salary),len(Minimum_salary),len(Maximum_salary),len(Experience_required))"
   ]
  },
  {
   "cell_type": "code",
   "execution_count": 782,
   "id": "c2b7aed3",
   "metadata": {},
   "outputs": [],
   "source": [
    "df=pd.DataFrame({'company_name':company_name,'Total_salary_record':Total_salary_record,'Average_salary':Average_salary,'Minimum_salary':Minimum_salary,'Maximum_salary':Maximum_salary,'Experience_required':Experience_required})"
   ]
  },
  {
   "cell_type": "code",
   "execution_count": 783,
   "id": "19024299",
   "metadata": {},
   "outputs": [
    {
     "data": {
      "text/html": [
       "<div>\n",
       "<style scoped>\n",
       "    .dataframe tbody tr th:only-of-type {\n",
       "        vertical-align: middle;\n",
       "    }\n",
       "\n",
       "    .dataframe tbody tr th {\n",
       "        vertical-align: top;\n",
       "    }\n",
       "\n",
       "    .dataframe thead th {\n",
       "        text-align: right;\n",
       "    }\n",
       "</style>\n",
       "<table border=\"1\" class=\"dataframe\">\n",
       "  <thead>\n",
       "    <tr style=\"text-align: right;\">\n",
       "      <th></th>\n",
       "      <th>company_name</th>\n",
       "      <th>Total_salary_record</th>\n",
       "      <th>Average_salary</th>\n",
       "      <th>Minimum_salary</th>\n",
       "      <th>Maximum_salary</th>\n",
       "      <th>Experience_required</th>\n",
       "    </tr>\n",
       "  </thead>\n",
       "  <tbody>\n",
       "    <tr>\n",
       "      <th>0</th>\n",
       "      <td>Walmart\\nData Scientist Salary</td>\n",
       "      <td>(based on 24 salaries)</td>\n",
       "      <td>₹ 32.2L</td>\n",
       "      <td>₹ 25.0L</td>\n",
       "      <td>₹ 45.0L</td>\n",
       "      <td>3-4 yrs experience (based on 24 salaries)</td>\n",
       "    </tr>\n",
       "    <tr>\n",
       "      <th>1</th>\n",
       "      <td>Ab Inbev\\nData Scientist Salary</td>\n",
       "      <td>(based on 59 salaries)</td>\n",
       "      <td>₹ 19.8L</td>\n",
       "      <td>₹ 15.0L</td>\n",
       "      <td>₹ 26.0L</td>\n",
       "      <td>2-4 yrs experience (based on 59 salaries)</td>\n",
       "    </tr>\n",
       "    <tr>\n",
       "      <th>2</th>\n",
       "      <td>Ab Inbev\\nData Scientist Salary</td>\n",
       "      <td>(based on 49 salaries)</td>\n",
       "      <td>₹ 16.4L</td>\n",
       "      <td>₹ 11.0L</td>\n",
       "      <td>₹ 22.6L</td>\n",
       "      <td>2-4 yrs experience (based on 49 salaries)</td>\n",
       "    </tr>\n",
       "    <tr>\n",
       "      <th>3</th>\n",
       "      <td>Optum\\nData Scientist Salary</td>\n",
       "      <td>(based on 35 salaries)</td>\n",
       "      <td>₹ 15.9L</td>\n",
       "      <td>₹ 11.0L</td>\n",
       "      <td>₹ 22.0L</td>\n",
       "      <td>1-2 yrs experience (based on 35 salaries)</td>\n",
       "    </tr>\n",
       "    <tr>\n",
       "      <th>4</th>\n",
       "      <td>ZS\\nData Scientist Salary</td>\n",
       "      <td>(based on 118 salaries)</td>\n",
       "      <td>₹ 15.5L</td>\n",
       "      <td>₹ 9.0L</td>\n",
       "      <td>₹ 23.0L</td>\n",
       "      <td>2-4 yrs experience (based on 118 salaries)</td>\n",
       "    </tr>\n",
       "    <tr>\n",
       "      <th>5</th>\n",
       "      <td>Fractal Analytics\\nData Scientist Salary</td>\n",
       "      <td>(based on 10 salaries)</td>\n",
       "      <td>₹ 14.7L</td>\n",
       "      <td>₹ 12.7L</td>\n",
       "      <td>₹ 19.7L</td>\n",
       "      <td>1 yr experience (based on 10 salaries)</td>\n",
       "    </tr>\n",
       "    <tr>\n",
       "      <th>6</th>\n",
       "      <td>Sigmoid Analytics\\nData Scientist Salary</td>\n",
       "      <td>(based on 70 salaries)</td>\n",
       "      <td>₹ 14.6L</td>\n",
       "      <td>₹ 9.0L</td>\n",
       "      <td>₹ 20.0L</td>\n",
       "      <td>2-4 yrs experience (based on 70 salaries)</td>\n",
       "    </tr>\n",
       "    <tr>\n",
       "      <th>7</th>\n",
       "      <td>Tiger Analytics\\nData Scientist Salary</td>\n",
       "      <td>(based on 11 salaries)</td>\n",
       "      <td>₹ 14.5L</td>\n",
       "      <td>₹ 11.0L</td>\n",
       "      <td>₹ 20.0L</td>\n",
       "      <td>4 yrs experience (based on 11 salaries)</td>\n",
       "    </tr>\n",
       "    <tr>\n",
       "      <th>8</th>\n",
       "      <td>Legato Health Technologies\\nData Scientist Salary</td>\n",
       "      <td>(based on 10 salaries)</td>\n",
       "      <td>₹ 14.0L</td>\n",
       "      <td>₹ 12.0L</td>\n",
       "      <td>₹ 18.0L</td>\n",
       "      <td>4 yrs experience (based on 10 salaries)</td>\n",
       "    </tr>\n",
       "    <tr>\n",
       "      <th>9</th>\n",
       "      <td>HSBC\\nData Scientist Salary</td>\n",
       "      <td>(based on 14 salaries)</td>\n",
       "      <td>₹ 13.9L</td>\n",
       "      <td>₹ 8.8L</td>\n",
       "      <td>₹ 18.0L</td>\n",
       "      <td>3 yrs experience (based on 14 salaries)</td>\n",
       "    </tr>\n",
       "  </tbody>\n",
       "</table>\n",
       "</div>"
      ],
      "text/plain": [
       "                                        company_name      Total_salary_record  \\\n",
       "0                     Walmart\\nData Scientist Salary   (based on 24 salaries)   \n",
       "1                    Ab Inbev\\nData Scientist Salary   (based on 59 salaries)   \n",
       "2                    Ab Inbev\\nData Scientist Salary   (based on 49 salaries)   \n",
       "3                       Optum\\nData Scientist Salary   (based on 35 salaries)   \n",
       "4                          ZS\\nData Scientist Salary  (based on 118 salaries)   \n",
       "5           Fractal Analytics\\nData Scientist Salary   (based on 10 salaries)   \n",
       "6           Sigmoid Analytics\\nData Scientist Salary   (based on 70 salaries)   \n",
       "7             Tiger Analytics\\nData Scientist Salary   (based on 11 salaries)   \n",
       "8  Legato Health Technologies\\nData Scientist Salary   (based on 10 salaries)   \n",
       "9                        HSBC\\nData Scientist Salary   (based on 14 salaries)   \n",
       "\n",
       "  Average_salary Minimum_salary Maximum_salary  \\\n",
       "0        ₹ 32.2L        ₹ 25.0L        ₹ 45.0L   \n",
       "1        ₹ 19.8L        ₹ 15.0L        ₹ 26.0L   \n",
       "2        ₹ 16.4L        ₹ 11.0L        ₹ 22.6L   \n",
       "3        ₹ 15.9L        ₹ 11.0L        ₹ 22.0L   \n",
       "4        ₹ 15.5L         ₹ 9.0L        ₹ 23.0L   \n",
       "5        ₹ 14.7L        ₹ 12.7L        ₹ 19.7L   \n",
       "6        ₹ 14.6L         ₹ 9.0L        ₹ 20.0L   \n",
       "7        ₹ 14.5L        ₹ 11.0L        ₹ 20.0L   \n",
       "8        ₹ 14.0L        ₹ 12.0L        ₹ 18.0L   \n",
       "9        ₹ 13.9L         ₹ 8.8L        ₹ 18.0L   \n",
       "\n",
       "                          Experience_required  \n",
       "0   3-4 yrs experience (based on 24 salaries)  \n",
       "1   2-4 yrs experience (based on 59 salaries)  \n",
       "2   2-4 yrs experience (based on 49 salaries)  \n",
       "3   1-2 yrs experience (based on 35 salaries)  \n",
       "4  2-4 yrs experience (based on 118 salaries)  \n",
       "5      1 yr experience (based on 10 salaries)  \n",
       "6   2-4 yrs experience (based on 70 salaries)  \n",
       "7     4 yrs experience (based on 11 salaries)  \n",
       "8     4 yrs experience (based on 10 salaries)  \n",
       "9     3 yrs experience (based on 14 salaries)  "
      ]
     },
     "execution_count": 783,
     "metadata": {},
     "output_type": "execute_result"
    }
   ],
   "source": [
    "df"
   ]
  },
  {
   "cell_type": "code",
   "execution_count": null,
   "id": "846e4034",
   "metadata": {},
   "outputs": [],
   "source": []
  }
 ],
 "metadata": {
  "kernelspec": {
   "display_name": "Python 3 (ipykernel)",
   "language": "python",
   "name": "python3"
  },
  "language_info": {
   "codemirror_mode": {
    "name": "ipython",
    "version": 3
   },
   "file_extension": ".py",
   "mimetype": "text/x-python",
   "name": "python",
   "nbconvert_exporter": "python",
   "pygments_lexer": "ipython3",
   "version": "3.9.7"
  }
 },
 "nbformat": 4,
 "nbformat_minor": 5
}
